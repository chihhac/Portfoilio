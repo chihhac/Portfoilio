{
 "cells": [
  {
   "cell_type": "markdown",
   "id": "ae3f5d47",
   "metadata": {},
   "source": [
    "# importing required packages"
   ]
  },
  {
   "cell_type": "code",
   "execution_count": 15,
   "id": "ad83b713",
   "metadata": {},
   "outputs": [],
   "source": [
    "import requests\n",
    "import json\n",
    "from io import StringIO\n",
    "from pdfminer.converter import TextConverter\n",
    "from pdfminer.layout import LAParams\n",
    "from pdfminer.pdfdocument import PDFDocument\n",
    "from pdfminer.pdfinterp import PDFResourceManager, PDFPageInterpreter\n",
    "from pdfminer.pdfpage import PDFPage\n",
    "from pdfminer.pdfparser import PDFParser"
   ]
  },
  {
   "cell_type": "markdown",
   "id": "f84aa0f4",
   "metadata": {},
   "source": [
    "# 483 Inspection - ORA Reading Room"
   ]
  },
  {
   "cell_type": "markdown",
   "id": "79f27b6d",
   "metadata": {},
   "source": [
    "### Link to the 483 Inspection PDF files from ORA Reading Room\n",
    "https://www.fda.gov/about-fda/office-regulatory-affairs/ora-foia-electronic-reading-room"
   ]
  },
  {
   "cell_type": "code",
   "execution_count": 16,
   "id": "2d8ce79a",
   "metadata": {},
   "outputs": [],
   "source": [
    "text = requests.get(\"https://www.fda.gov/datatables/views/ajax?search_api_fulltext=Jude&foia_record_type_name=&draw=8&columns%5B0%5D%5Bdata%5D=0&columns%5B0%5D%5Bname%5D=&columns%5B0%5D%5Bsearchable%5D=true&columns%5B0%5D%5Borderable%5D=true&columns%5B0%5D%5Bsearch%5D%5Bvalue%5D=&columns%5B0%5D%5Bsearch%5D%5Bregex%5D=false&columns%5B1%5D%5Bdata%5D=1&columns%5B1%5D%5Bname%5D=&columns%5B1%5D%5Bsearchable%5D=true&columns%5B1%5D%5Borderable%5D=true&columns%5B1%5D%5Bsearch%5D%5Bvalue%5D=&columns%5B1%5D%5Bsearch%5D%5Bregex%5D=false&columns%5B2%5D%5Bdata%5D=2&columns%5B2%5D%5Bname%5D=&columns%5B2%5D%5Bsearchable%5D=true&columns%5B2%5D%5Borderable%5D=true&columns%5B2%5D%5Bsearch%5D%5Bvalue%5D=&columns%5B2%5D%5Bsearch%5D%5Bregex%5D=false&columns%5B3%5D%5Bdata%5D=3&columns%5B3%5D%5Bname%5D=&columns%5B3%5D%5Bsearchable%5D=true&columns%5B3%5D%5Borderable%5D=true&columns%5B3%5D%5Bsearch%5D%5Bvalue%5D=&columns%5B3%5D%5Bsearch%5D%5Bregex%5D=false&columns%5B4%5D%5Bdata%5D=4&columns%5B4%5D%5Bname%5D=&columns%5B4%5D%5Bsearchable%5D=true&columns%5B4%5D%5Borderable%5D=true&columns%5B4%5D%5Bsearch%5D%5Bvalue%5D=&columns%5B4%5D%5Bsearch%5D%5Bregex%5D=false&columns%5B5%5D%5Bdata%5D=5&columns%5B5%5D%5Bname%5D=&columns%5B5%5D%5Bsearchable%5D=true&columns%5B5%5D%5Borderable%5D=true&columns%5B5%5D%5Bsearch%5D%5Bvalue%5D=&columns%5B5%5D%5Bsearch%5D%5Bregex%5D=false&columns%5B6%5D%5Bdata%5D=6&columns%5B6%5D%5Bname%5D=&columns%5B6%5D%5Bsearchable%5D=true&columns%5B6%5D%5Borderable%5D=true&columns%5B6%5D%5Bsearch%5D%5Bvalue%5D=&columns%5B6%5D%5Bsearch%5D%5Bregex%5D=false&columns%5B7%5D%5Bdata%5D=7&columns%5B7%5D%5Bname%5D=&columns%5B7%5D%5Bsearchable%5D=true&columns%5B7%5D%5Borderable%5D=false&columns%5B7%5D%5Bsearch%5D%5Bvalue%5D=&columns%5B7%5D%5Bsearch%5D%5Bregex%5D=false&start=0&length=10&search%5Bvalue%5D=&search%5Bregex%5D=false&_drupal_ajax=1&_wrapper_format=drupal_ajax&pager_element=0&view_args=&view_base_path=about-fda%2Foffice-regulatory-affairs%2Fora-foia-electronic-reading-room%2Fdownload&view_display_id=reading_room_datatable_block&view_dom_id=54a29e27ba5b4d37febcdedfb628845623f1c70c62c430a7207a6ef854a67422&view_name=ora_foia_electronic_reading_room_solr&view_path=%2Fabout-fda%2Foffice-regulatory-affairs%2Fora-foia-electronic-reading-room&total_items=2300&_=1652984166794\")"
   ]
  },
  {
   "cell_type": "code",
   "execution_count": 17,
   "id": "445334d5",
   "metadata": {},
   "outputs": [
    {
     "data": {
      "text/plain": [
       "8"
      ]
     },
     "execution_count": 17,
     "metadata": {},
     "output_type": "execute_result"
    }
   ],
   "source": [
    "json.loads(text.text).keys()\n",
    "json.loads(text.text)[\"recordsTotal\"]\n",
    "json.loads(text.text)[\"recordsFiltered\"]\n",
    "json.loads(text.text)[\"data\"]\n",
    "len(json.loads(text.text)[\"data\"])"
   ]
  },
  {
   "cell_type": "code",
   "execution_count": 18,
   "id": "dfbb3f12",
   "metadata": {},
   "outputs": [],
   "source": [
    "#json.loads(text.text)[\"data\"][0]"
   ]
  },
  {
   "cell_type": "code",
   "execution_count": 19,
   "id": "63d809f8",
   "metadata": {},
   "outputs": [],
   "source": [
    "st_jude_response = json.loads(text.text)[\"data\"]"
   ]
  },
  {
   "cell_type": "code",
   "execution_count": 20,
   "id": "9d1dc958",
   "metadata": {},
   "outputs": [],
   "source": [
    "#st_jude_response"
   ]
  },
  {
   "cell_type": "code",
   "execution_count": 21,
   "id": "33dbcf3b",
   "metadata": {},
   "outputs": [
    {
     "data": {
      "text/plain": [
       "['/media/85385/download',\n",
       " '/media/85654/download',\n",
       " '/media/104436/download',\n",
       " '/media/84912/download',\n",
       " '/media/84896/download',\n",
       " '/media/84833/download',\n",
       " '/media/84940/download',\n",
       " '/media/84851/download']"
      ]
     },
     "execution_count": 21,
     "metadata": {},
     "output_type": "execute_result"
    }
   ],
   "source": [
    "list_of_urls = list()\n",
    "for i, text in enumerate(st_jude_response):\n",
    "    list_of_urls.append(text[3].split(\"<a href=\")[1].split(\">\")[0][1:-1])\n",
    "\n",
    "list_of_urls"
   ]
  },
  {
   "cell_type": "code",
   "execution_count": 22,
   "id": "9fe9ac19",
   "metadata": {},
   "outputs": [],
   "source": [
    "url_base = \"https://www.fda.gov\""
   ]
  },
  {
   "cell_type": "code",
   "execution_count": 23,
   "id": "47818216",
   "metadata": {},
   "outputs": [
    {
     "data": {
      "text/plain": [
       "['https://www.fda.gov/media/85385/download',\n",
       " 'https://www.fda.gov/media/85654/download',\n",
       " 'https://www.fda.gov/media/104436/download',\n",
       " 'https://www.fda.gov/media/84912/download',\n",
       " 'https://www.fda.gov/media/84896/download',\n",
       " 'https://www.fda.gov/media/84833/download',\n",
       " 'https://www.fda.gov/media/84940/download',\n",
       " 'https://www.fda.gov/media/84851/download']"
      ]
     },
     "execution_count": 23,
     "metadata": {},
     "output_type": "execute_result"
    }
   ],
   "source": [
    "urls_to_be_fired = list()\n",
    "for i,url in enumerate(list_of_urls):\n",
    "    url_final = url_base + url\n",
    "    urls_to_be_fired.append(url_final)\n",
    "    \n",
    "urls_to_be_fired"
   ]
  },
  {
   "cell_type": "code",
   "execution_count": 25,
   "id": "497f0fbf",
   "metadata": {},
   "outputs": [
    {
     "data": {
      "text/plain": [
       "'St-Jude-Medical-IESD--Sylmar--CA--Warning-Letter-Response-Dated-2-4-2013'"
      ]
     },
     "execution_count": 25,
     "metadata": {},
     "output_type": "execute_result"
    }
   ],
   "source": [
    "list_of_responses[0].headers[\"Content-Disposition\"].split(\"inline; filename=\")[1].split(\".pdf\")[0]"
   ]
  },
  {
   "cell_type": "code",
   "execution_count": 28,
   "id": "0e8c8cdd",
   "metadata": {},
   "outputs": [],
   "source": [
    "def extract_483(search):\n",
    "    url = f\"https://www.fda.gov/datatables/views/ajax?search_api_fulltext={search}&foia_record_type_name=&draw=8&columns%5B0%5D%5Bdata%5D=0&columns%5B0%5D%5Bname%5D=&columns%5B0%5D%5Bsearchable%5D=true&columns%5B0%5D%5Borderable%5D=true&columns%5B0%5D%5Bsearch%5D%5Bvalue%5D=&columns%5B0%5D%5Bsearch%5D%5Bregex%5D=false&columns%5B1%5D%5Bdata%5D=1&columns%5B1%5D%5Bname%5D=&columns%5B1%5D%5Bsearchable%5D=true&columns%5B1%5D%5Borderable%5D=true&columns%5B1%5D%5Bsearch%5D%5Bvalue%5D=&columns%5B1%5D%5Bsearch%5D%5Bregex%5D=false&columns%5B2%5D%5Bdata%5D=2&columns%5B2%5D%5Bname%5D=&columns%5B2%5D%5Bsearchable%5D=true&columns%5B2%5D%5Borderable%5D=true&columns%5B2%5D%5Bsearch%5D%5Bvalue%5D=&columns%5B2%5D%5Bsearch%5D%5Bregex%5D=false&columns%5B3%5D%5Bdata%5D=3&columns%5B3%5D%5Bname%5D=&columns%5B3%5D%5Bsearchable%5D=true&columns%5B3%5D%5Borderable%5D=true&columns%5B3%5D%5Bsearch%5D%5Bvalue%5D=&columns%5B3%5D%5Bsearch%5D%5Bregex%5D=false&columns%5B4%5D%5Bdata%5D=4&columns%5B4%5D%5Bname%5D=&columns%5B4%5D%5Bsearchable%5D=true&columns%5B4%5D%5Borderable%5D=true&columns%5B4%5D%5Bsearch%5D%5Bvalue%5D=&columns%5B4%5D%5Bsearch%5D%5Bregex%5D=false&columns%5B5%5D%5Bdata%5D=5&columns%5B5%5D%5Bname%5D=&columns%5B5%5D%5Bsearchable%5D=true&columns%5B5%5D%5Borderable%5D=true&columns%5B5%5D%5Bsearch%5D%5Bvalue%5D=&columns%5B5%5D%5Bsearch%5D%5Bregex%5D=false&columns%5B6%5D%5Bdata%5D=6&columns%5B6%5D%5Bname%5D=&columns%5B6%5D%5Bsearchable%5D=true&columns%5B6%5D%5Borderable%5D=true&columns%5B6%5D%5Bsearch%5D%5Bvalue%5D=&columns%5B6%5D%5Bsearch%5D%5Bregex%5D=false&columns%5B7%5D%5Bdata%5D=7&columns%5B7%5D%5Bname%5D=&columns%5B7%5D%5Bsearchable%5D=true&columns%5B7%5D%5Borderable%5D=false&columns%5B7%5D%5Bsearch%5D%5Bvalue%5D=&columns%5B7%5D%5Bsearch%5D%5Bregex%5D=false&start=0&length=10&search%5Bvalue%5D=&search%5Bregex%5D=false&_drupal_ajax=1&_wrapper_format=drupal_ajax&pager_element=0&view_args=&view_base_path=about-fda%2Foffice-regulatory-affairs%2Fora-foia-electronic-reading-room%2Fdownload&view_display_id=reading_room_datatable_block&view_dom_id=54a29e27ba5b4d37febcdedfb628845623f1c70c62c430a7207a6ef854a67422&view_name=ora_foia_electronic_reading_room_solr&view_path=%2Fabout-fda%2Foffice-regulatory-affairs%2Fora-foia-electronic-reading-room&total_items=2300&_=1652984166794\"\n",
    "    text = requests.get(url)\n",
    "    search_response = json.loads(text.text)[\"data\"]\n",
    "    list_of_urls = list()\n",
    "    for i, text in enumerate(search_response):\n",
    "        if \"<a href\" in text[3]:\n",
    "            list_of_urls.append(text[3].split(\"<a href=\")[1].split(\">\")[0][1:-1])\n",
    "    \n",
    "    url_base = \"https://www.fda.gov\"\n",
    "    urls_to_be_fired = list()\n",
    "    for i, url in enumerate(list_of_urls):\n",
    "        url_final = url_base + url\n",
    "        urls_to_be_fired.append(url_final)\n",
    "\n",
    "    list_of_responses = list()\n",
    "    for i, text in enumerate(urls_to_be_fired):\n",
    "        final_response = requests.get(text,allow_redirects=True)\n",
    "        list_of_responses.append(final_response)\n",
    "\n",
    "    for i,response in enumerate(list_of_responses):\n",
    "        output_string = StringIO()\n",
    "        with open(response.headers[\"Content-Disposition\"].split(\"inline; filename=\")[1].split(\".pdf\")[0]+\".pdf\", 'rb') as in_file:\n",
    "            parser = PDFParser(in_file)\n",
    "            doc = PDFDocument(parser)\n",
    "            rscmgr = PDFResourceManager()\n",
    "            device = TextConverter(rscmgr, output_string, laparams=LAParams())\n",
    "            interpreter = PDFPageInterpreter(rscmgr, device)\n",
    "            for page in PDFPage.create_pages(doc):\n",
    "                interpreter.process_page(page)\n",
    "\n",
    "    for i,response in enumerate(list_of_responses):\n",
    "        pdf = open(response.headers[\"Content-Disposition\"].split(\"inline; filename=\")[1].split(\".pdf\")[0]+\".pdf\", 'wb')\n",
    "        pdf.write(response.content)\n",
    "        pdf.close()\n",
    "    "
   ]
  },
  {
   "cell_type": "code",
   "execution_count": 29,
   "id": "3fadd237",
   "metadata": {},
   "outputs": [],
   "source": [
    "url = f\"https://www.fda.gov/datatables/views/ajax?search_api_fulltext=edwards&foia_record_type_name=&draw=8&columns%5B0%5D%5Bdata%5D=0&columns%5B0%5D%5Bname%5D=&columns%5B0%5D%5Bsearchable%5D=true&columns%5B0%5D%5Borderable%5D=true&columns%5B0%5D%5Bsearch%5D%5Bvalue%5D=&columns%5B0%5D%5Bsearch%5D%5Bregex%5D=false&columns%5B1%5D%5Bdata%5D=1&columns%5B1%5D%5Bname%5D=&columns%5B1%5D%5Bsearchable%5D=true&columns%5B1%5D%5Borderable%5D=true&columns%5B1%5D%5Bsearch%5D%5Bvalue%5D=&columns%5B1%5D%5Bsearch%5D%5Bregex%5D=false&columns%5B2%5D%5Bdata%5D=2&columns%5B2%5D%5Bname%5D=&columns%5B2%5D%5Bsearchable%5D=true&columns%5B2%5D%5Borderable%5D=true&columns%5B2%5D%5Bsearch%5D%5Bvalue%5D=&columns%5B2%5D%5Bsearch%5D%5Bregex%5D=false&columns%5B3%5D%5Bdata%5D=3&columns%5B3%5D%5Bname%5D=&columns%5B3%5D%5Bsearchable%5D=true&columns%5B3%5D%5Borderable%5D=true&columns%5B3%5D%5Bsearch%5D%5Bvalue%5D=&columns%5B3%5D%5Bsearch%5D%5Bregex%5D=false&columns%5B4%5D%5Bdata%5D=4&columns%5B4%5D%5Bname%5D=&columns%5B4%5D%5Bsearchable%5D=true&columns%5B4%5D%5Borderable%5D=true&columns%5B4%5D%5Bsearch%5D%5Bvalue%5D=&columns%5B4%5D%5Bsearch%5D%5Bregex%5D=false&columns%5B5%5D%5Bdata%5D=5&columns%5B5%5D%5Bname%5D=&columns%5B5%5D%5Bsearchable%5D=true&columns%5B5%5D%5Borderable%5D=true&columns%5B5%5D%5Bsearch%5D%5Bvalue%5D=&columns%5B5%5D%5Bsearch%5D%5Bregex%5D=false&columns%5B6%5D%5Bdata%5D=6&columns%5B6%5D%5Bname%5D=&columns%5B6%5D%5Bsearchable%5D=true&columns%5B6%5D%5Borderable%5D=true&columns%5B6%5D%5Bsearch%5D%5Bvalue%5D=&columns%5B6%5D%5Bsearch%5D%5Bregex%5D=false&columns%5B7%5D%5Bdata%5D=7&columns%5B7%5D%5Bname%5D=&columns%5B7%5D%5Bsearchable%5D=true&columns%5B7%5D%5Borderable%5D=false&columns%5B7%5D%5Bsearch%5D%5Bvalue%5D=&columns%5B7%5D%5Bsearch%5D%5Bregex%5D=false&start=0&length=10&search%5Bvalue%5D=&search%5Bregex%5D=false&_drupal_ajax=1&_wrapper_format=drupal_ajax&pager_element=0&view_args=&view_base_path=about-fda%2Foffice-regulatory-affairs%2Fora-foia-electronic-reading-room%2Fdownload&view_display_id=reading_room_datatable_block&view_dom_id=54a29e27ba5b4d37febcdedfb628845623f1c70c62c430a7207a6ef854a67422&view_name=ora_foia_electronic_reading_room_solr&view_path=%2Fabout-fda%2Foffice-regulatory-affairs%2Fora-foia-electronic-reading-room&total_items=2300&_=1652984166794\""
   ]
  },
  {
   "cell_type": "code",
   "execution_count": 30,
   "id": "01aa77f8",
   "metadata": {},
   "outputs": [],
   "source": [
    "text = requests.get(url)\n",
    "search_response = json.loads(text.text)['data']"
   ]
  },
  {
   "cell_type": "code",
   "execution_count": 31,
   "id": "80e1e500",
   "metadata": {},
   "outputs": [
    {
     "data": {
      "text/plain": [
       "[['Edwards Lifesciences, LLC',\n",
       "  '<time datetime=\"2015-07-11T01:30:00Z\">07/10/2015</time>\\n',\n",
       "  '1713910',\n",
       "  '<a href=\"/media/88453/download\">483</a>',\n",
       "  'Utah',\n",
       "  'Medical Device Manufacturer',\n",
       "  '<time datetime=\"2019-04-20T03:19:41Z\">04/19/2019</time>\\n',\n",
       "  '… R. Lunsford, Cor orate Vice President and General Hanager <strong>Edwards</strong> Lifesciences, LLC 12050 Lone Peak Pkwy TYl&#039;E … R. Lunsford, Corporate Vice President and General Manager <strong>Edwards</strong> Lifesciences, LLC 12050 Lone Peak Ph&lt;y CITY, … Corporate Vice President and General Manager STREETADDRESS <strong>Edwards</strong> Lifesciences, LLC 12050 Lone Peak Pkwy CITY, STAlE, …'],\n",
       " ['Cal-Maine Farms, Inc.',\n",
       "  '<time datetime=\"2015-07-11T01:25:00Z\">07/10/2015</time>\\n',\n",
       "  '3004327090',\n",
       "  '',\n",
       "  'Mississippi',\n",
       "  'Shell Egg Producer',\n",
       "  '<time datetime=\"2019-04-20T02:58:38Z\">04/19/2019</time>\\n',\n",
       "  '… FEI: 3004327090 Cal-Maine Farms, Inc. EI Start: 05/31/2011 <strong>Edwards</strong>, MS 39066 EI End: 06/02/2011 1 of 15 (b) (3) SUMMARY … were encountered. All FDA correspondence to the firm (<strong>Edwards</strong>, MS) should be addressed as follows: Cal-Maine … (Wil) Webb, III, Director of Production, P.O. Box 168, <strong>Edwards</strong>, MS 39066. All official FDA correspondence to the …'],\n",
       " ['Cal-Maine Farms, Inc.',\n",
       "  '<time datetime=\"2015-07-10T07:01:00Z\">07/10/2015</time>\\n',\n",
       "  '3004327090',\n",
       "  '<a href=\"/media/83428/download\">483</a>',\n",
       "  'Mississippi',\n",
       "  'Manufacturer',\n",
       "  '<time datetime=\"2019-04-20T02:58:37Z\">04/19/2019</time>\\n',\n",
       "  '… Cal - Maine Farms, Inc. CITY. STATE. l.PCOOE, COUHT~ <strong>Edwards</strong>, MS 39066 STREEo AOORESS 3280 Adams Lane TYPE … Cal - Maine Farms, Inc. CITY. STATE. l.PCOOE, COUHT~ <strong>Edwards</strong>, MS 39066 STREEo AOORESS 3280 Adams Lane TYPE … Record … Manufacturer … 3004327090 … Cal-Maine Farms, Inc., <strong>Edwards</strong>, MS 483 issued 6/2/2011 … download …'],\n",
       " ['Vital Care Compounder LLC',\n",
       "  '<time datetime=\"2016-08-08T14:04:00Z\">08/08/2016</time>\\n',\n",
       "  '3010241801',\n",
       "  '<a href=\"/media/99665/download\">483</a>',\n",
       "  'Mississippi',\n",
       "  'Producer of Sterile Drug Products',\n",
       "  '<time datetime=\"2019-04-20T02:47:10Z\">04/19/2019</time>\\n',\n",
       "  '… TITLE OF INDIVIDUAL TO WHOM REPORT IS ISSUED TO: Ronald D. <strong>Edwards</strong> I Owner FIRM NAME Vital Care Compounder, LLC CITY. … TITLE OF INDIVIDUAL TO WHOM REPORT IS ISSUED TO: Ronald D. <strong>Edwards</strong> I Owner fiRMNAME STREET ADDRESS V ital Care … TITLE OF INDIVIDUAL TO WHOM REPORT IS ISSUED TO: Ronald D. <strong>Edwards</strong> I Owner -FIRM NAME Vital Care Compounder, LLC CITY, …'],\n",
       " ['National Food Corporation',\n",
       "  '<time datetime=\"2015-07-11T01:13:00Z\">07/10/2015</time>\\n',\n",
       "  '3003622898',\n",
       "  '',\n",
       "  '',\n",
       "  'Farm',\n",
       "  '<time datetime=\"2019-04-20T03:16:30Z\">04/19/2019</time>\\n',\n",
       "  '… To Whom: Mr. Brian V. Bookey, President (2) Mr. Roger L. <strong>Edwards</strong>, Safety Coordinator (4) Mr. Luis A. Riofrio, Food … Mr. Luis A. Riofrio, Food Safety and QA Mr. Roger L. <strong>Edwards</strong>, Safety Coordinator Mr. Scott H. Vessel, Production … Laboratory On 12/13/2010, at Lind Farm Mr. Roger L. <strong>Edwards</strong>, Safety Director On 11/29/2010, at Hilltop Farm On …'],\n",
       " ['Pharmacy Plus, Inc. dba Vital Care Compounder',\n",
       "  '<time datetime=\"2019-05-16T20:33:00Z\">05/16/2019</time>\\n',\n",
       "  '3010241801 ',\n",
       "  '<a href=\"/media/128811/download\">483</a>',\n",
       "  'Mississippi',\n",
       "  'Producer of Sterile and Non Sterile Drug Products',\n",
       "  '<time datetime=\"2019-07-12T17:25:21Z\">07/12/2019</time>\\n',\n",
       "  '… NAME AND TITLE OF INOMOUAL TO WHOM REPORT ISSUED Ronald D. <strong>Edwards</strong>, Owner F IRM NAME Pharmacy Plus, Inc. db a Vital … NAME AND TITLE OF INOM OUAL TO WHOM REPORT ISSUED Ronald D. <strong>Edwards</strong>, Owner F IRM NAME Pharmacy Plus, Inc. dba Vital Care … NAME AND TITLE OF INOM OUAL TO WHOM REPORT ISSUED Ronald D. <strong>Edwards</strong>, Owner F IRM NAME Pharmacy Plus, Inc. dba Vital Care …'],\n",
       " ['Cal-Maine Foods, Inc.',\n",
       "  '<time datetime=\"2015-07-11T01:20:00Z\">07/10/2015</time>\\n',\n",
       "  '2315319',\n",
       "  '',\n",
       "  'Louisiana',\n",
       "  'Shell Egg Producer',\n",
       "  '<time datetime=\"2019-04-20T03:44:04Z\">04/19/2019</time>\\n',\n",
       "  '… The fi1m receives pullets from Cal-Maine Foods, Inc. in <strong>Edwards</strong>, MS. A conti·act trucking company provides the … The fi1m receives pullets from Cal-Maine Foods, Inc. in <strong>Edwards</strong>, MS. A conti·act trucking company provides the …']]"
      ]
     },
     "execution_count": 31,
     "metadata": {},
     "output_type": "execute_result"
    }
   ],
   "source": [
    "search_response"
   ]
  },
  {
   "cell_type": "code",
   "execution_count": 32,
   "id": "71473d6c",
   "metadata": {},
   "outputs": [],
   "source": [
    "extract_483('jude')"
   ]
  },
  {
   "cell_type": "markdown",
   "id": "5d14e3c1",
   "metadata": {},
   "source": [
    "# "
   ]
  },
  {
   "cell_type": "markdown",
   "id": "d961e660",
   "metadata": {},
   "source": [
    "# Warning Letters\n",
    "## Link to the Warning Letters from FDA website\n",
    "https://www.fda.gov/inspections-compliance-enforcement-and-criminal-investigations/compliance-actions-and-activities/warning-letters"
   ]
  },
  {
   "cell_type": "code",
   "execution_count": 28,
   "id": "635fb1ab",
   "metadata": {},
   "outputs": [],
   "source": [
    "import requests\n",
    "import json\n",
    "import re\n",
    "from bs4 import BeautifulSoup\n",
    "from urllib.request import urlopen\n",
    "\n",
    "\n",
    "def extract_warning_letter_list(search):\n",
    "    url = f\"https://www.fda.gov/datatables/views/ajax?search_api_fulltext={search}&search_api_fulltext_issuing_office=&field_letter_issue_datetime=All&field_change_date_closeout_letter=&field_change_date_response_letter=&field_change_date_2=All&field_letter_issue_datetime_2=&draw=4&columns%5B0%5D%5Bdata%5D=0&columns%5B0%5D%5Bname%5D=&columns%5B0%5D%5Bsearchable%5D=true&columns%5B0%5D%5Borderable%5D=true&columns%5B0%5D%5Bsearch%5D%5Bvalue%5D=&columns%5B0%5D%5Bsearch%5D%5Bregex%5D=false&columns%5B1%5D%5Bdata%5D=1&columns%5B1%5D%5Bname%5D=&columns%5B1%5D%5Bsearchable%5D=true&columns%5B1%5D%5Borderable%5D=true&columns%5B1%5D%5Bsearch%5D%5Bvalue%5D=&columns%5B1%5D%5Bsearch%5D%5Bregex%5D=false&columns%5B2%5D%5Bdata%5D=2&columns%5B2%5D%5Bname%5D=&columns%5B2%5D%5Bsearchable%5D=true&columns%5B2%5D%5Borderable%5D=true&columns%5B2%5D%5Bsearch%5D%5Bvalue%5D=&columns%5B2%5D%5Bsearch%5D%5Bregex%5D=false&columns%5B3%5D%5Bdata%5D=3&columns%5B3%5D%5Bname%5D=&columns%5B3%5D%5Bsearchable%5D=true&columns%5B3%5D%5Borderable%5D=true&columns%5B3%5D%5Bsearch%5D%5Bvalue%5D=&columns%5B3%5D%5Bsearch%5D%5Bregex%5D=false&columns%5B4%5D%5Bdata%5D=4&columns%5B4%5D%5Bname%5D=&columns%5B4%5D%5Bsearchable%5D=true&columns%5B4%5D%5Borderable%5D=true&columns%5B4%5D%5Bsearch%5D%5Bvalue%5D=&columns%5B4%5D%5Bsearch%5D%5Bregex%5D=false&columns%5B5%5D%5Bdata%5D=5&columns%5B5%5D%5Bname%5D=&columns%5B5%5D%5Bsearchable%5D=true&columns%5B5%5D%5Borderable%5D=true&columns%5B5%5D%5Bsearch%5D%5Bvalue%5D=&columns%5B5%5D%5Bsearch%5D%5Bregex%5D=false&columns%5B6%5D%5Bdata%5D=6&columns%5B6%5D%5Bname%5D=&columns%5B6%5D%5Bsearchable%5D=true&columns%5B6%5D%5Borderable%5D=true&columns%5B6%5D%5Bsearch%5D%5Bvalue%5D=&columns%5B6%5D%5Bsearch%5D%5Bregex%5D=false&columns%5B7%5D%5Bdata%5D=7&columns%5B7%5D%5Bname%5D=&columns%5B7%5D%5Bsearchable%5D=true&columns%5B7%5D%5Borderable%5D=false&columns%5B7%5D%5Bsearch%5D%5Bvalue%5D=&columns%5B7%5D%5Bsearch%5D%5Bregex%5D=false&start=0&length=10&search%5Bvalue%5D=&search%5Bregex%5D=false&_drupal_ajax=1&_wrapper_format=drupal_ajax&pager_element=0&view_args=&view_base_path=inspections-compliance-enforcement-and-criminal-investigations%2Fcompliance-actions-and-activities%2Fwarning-letters%2Fdatatables-data&view_display_id=warning_letter_solr_block&view_dom_id=216facc099c04af0f56180f89afb9f1d0a008020ee32fb027a8c49bc45f91f90&view_name=warning_letter_solr_index&view_path=%2Finspections-compliance-enforcement-and-criminal-investigations%2Fcompliance-actions-and-activities%2Fwarning-letters&total_items=3033&_=1653280484120\"\n",
    "    text = requests.get(url)\n",
    "    search_response = json.loads(text.text)[\"data\"]\n",
    "    print(search_response)\n",
    "    list_of_urls = list()\n",
    "    for i, text in enumerate(search_response):\n",
    "        if \"<a href\" in text[2]:\n",
    "            list_of_urls.append(text[2].split(\"<a href=\")[1].split(\">\")[0][1:-1])\n",
    "    \n",
    "    url_base = \"https://www.fda.gov\"\n",
    "    urls_to_be_fired = list()\n",
    "    for i, url in enumerate(list_of_urls):\n",
    "        url_final = url_base + url\n",
    "        urls_to_be_fired.append(url_final)\n",
    "    \n",
    "    return urls_to_be_fired\n",
    "\n",
    "def web_scrape_warning_letter(list_name):\n",
    "\n",
    "    web_text = list()\n",
    "    for i, url in enumerate(list_name):\n",
    "        page = urlopen(url)\n",
    "        html_bytes = page.read()\n",
    "        html = html_bytes.decode(\"utf-8\")\n",
    "        start_index = html.find(\">WARNING LETTER</\")\n",
    "        end_index = html.find(\"/S/\")\n",
    "        title = html[start_index:end_index]\n",
    "        title = title.split('</div><div>\\xa0</div><div>')\n",
    "        cleantext = list()\n",
    "        for i, text in enumerate(title):\n",
    "            TEMP = BeautifulSoup(text, \"html.parser\").text\n",
    "            TEMP = re.sub(\"\\xa0\", \" \", TEMP)\n",
    "            TEMP = re.sub(\"\\n\", '', TEMP)\n",
    "            cleantext.append(TEMP)\n",
    "        #cleantext = cleantext[cleantext.find('Dear'):cleantext.find('Sincerely')]\n",
    "        web_text.append(cleantext)\n",
    "    return web_text\n",
    "\n"
   ]
  },
  {
   "cell_type": "code",
   "execution_count": 30,
   "id": "46c796dd",
   "metadata": {},
   "outputs": [
    {
     "name": "stdout",
     "output_type": "stream",
     "text": [
      "[['<time datetime=\"2017-04-12T15:00:00Z\">04/12/2017</time>\\n', '<time datetime=\"2017-04-12T04:29:30Z\">04/12/2017</time>\\n', '<a href=\"/inspections-compliance-enforcement-and-criminal-investigations/warning-letters/abbott-st-jude-medical-inc-519686-04122017\">Abbott (St Jude Medical Inc.)</a>', 'Center for Devices and Radiological Health', 'CGMP/QSR/Manufacture/Packing/Storage/Installation/Adulterated', '', '<a href=\"/inspections-compliance-enforcement-and-criminal-investigations/warning-letters/abbott-519686-04282020\"><time datetime=\"2020-05-07T04:00:00Z\">05/07/2020</time>\\n</a>', '… Abbott (St <strong>Jude</strong> Medical Inc.) … \\xa0 \\xa0 \\xa0 \\xa0 \\xa0 \\xa0 10903 New Hampshire Avenue … were shipped from your firm’s distribution centers to St. <strong>Jude</strong> US Field Representatives.\\xa0Between October 14 and October … also subject to this recall and in the control of St. <strong>Jude</strong> US Field Representatives, were implanted into patients. …']]\n"
     ]
    }
   ],
   "source": [
    "jude_list = extract_warning_letter_list(search='jude')\n",
    "jude = web_scrape_warning_letter(jude_list)"
   ]
  },
  {
   "cell_type": "code",
   "execution_count": 31,
   "id": "608a232f",
   "metadata": {},
   "outputs": [
    {
     "name": "stdout",
     "output_type": "stream",
     "text": [
      "[['<time datetime=\"2021-12-28T14:20:00Z\">12/28/2021</time>\\n', '<time datetime=\"2021-12-09T05:00:00Z\">12/09/2021</time>\\n', '<a href=\"/inspections-compliance-enforcement-and-criminal-investigations/warning-letters/medtronic-inc-617539-12092021\">Medtronic, Inc.</a>', 'Center for Devices and Radiological Health', 'CGMP/QSR/Medical Devices/Adulterated', '', '', '… <strong>Medtronic</strong>, Inc. … WARNING LETTER CMS 617539 December 9, 2021 … their devices for retainer\\xa0ring damage and to contact <strong>Medtronic</strong> for a replacement pump if damage was noted; if no … with the remote controllers used with your <strong>Medtronic</strong> MiniMed 508 Insulin Infusion\\xa0Pump and your MiniMed …'], ['<time datetime=\"2018-09-11T09:20:00Z\">09/11/2018</time>\\n', '<time datetime=\"2018-07-30T04:20:06Z\">07/30/2018</time>\\n', '<a href=\"/inspections-compliance-enforcement-and-criminal-investigations/warning-letters/medtronic-inc-cardiac-rhythm-and-heart-failure-crhf-560736-07302018\">Medtronic Inc., Cardiac Rhythm and Heart Failure (CRHF)</a>', 'Florida District Office', 'CGMP/QSR/Medical Devices/Adulterated', '', '<a href=\"/inspections-compliance-enforcement-and-criminal-investigations/warning-letters/medtronic-inc-cardiac-rhythm-and-heart-failure-crhf-560736-02202020\"><time datetime=\"2020-02-27T05:00:00Z\">02/27/2020</time>\\n</a>', '… <strong>Medtronic</strong> Inc., Cardiac Rhythm and Heart Failure (CRHF) … \\xa0 \\xa0 … CONFIRMATION \\xa0 July 30, 2018 \\xa0 Omar Ishrak Chairman &amp; CEO <strong>Medtronic</strong> Inc. 710 <strong>Medtronic</strong> Parkway NE Minneapolis, MN 55432 \\xa0 Dear Mr. Ishrak: …'], ['<time datetime=\"2018-09-11T09:20:00Z\">09/11/2018</time>\\n', '<time datetime=\"2018-08-23T04:20:05Z\">08/23/2018</time>\\n', '<a href=\"/inspections-compliance-enforcement-and-criminal-investigations/warning-letters/medtronic-puerto-rico-operations-co-562437-08232018\">Medtronic Puerto Rico Operations Co.</a>', 'Florida District Office', 'CGMP/QSR/Medical Devices/Adulterated', '', '<a href=\"/inspections-compliance-enforcement-and-criminal-investigations/warning-letters/medtronic-puerto-rico-operations-co-562437-02202020\"><time datetime=\"2020-02-27T05:00:00Z\">02/27/2020</time>\\n</a>', '… <strong>Medtronic</strong> Puerto Rico Operations Co. … \\xa0 \\xa0 \\xa0 \\xa0 \\xa0 \\xa0 Office of … \\xa0 August 23, 2018 \\xa0 Omar Ishrak Chairman &amp; CEO <strong>Medtronic</strong> Inc. 710 <strong>Medtronic</strong> Parkway NE Minneapolis, MN 55432 \\xa0 Dear Mr. Ishrak: …']]\n"
     ]
    }
   ],
   "source": [
    "medtronic_list = extract_warning_letter_list(search='medtronic')"
   ]
  },
  {
   "cell_type": "code",
   "execution_count": 32,
   "id": "ca910855",
   "metadata": {},
   "outputs": [],
   "source": [
    "medtronic_warning = web_scrape_warning_letter(medtronic_list)"
   ]
  },
  {
   "cell_type": "code",
   "execution_count": 33,
   "id": "5e81d690",
   "metadata": {},
   "outputs": [
    {
     "data": {
      "text/plain": [
       "['>WARNING LETTERMedtronic Puerto Rico Operations Co.                                    MARCS-CMS 562437 —           August 23, 2018ShareTweetLinkedinEmailPrintRecipient:Recipient NameOmar IshrakMedtronic Puerto Rico Operations Co.710 Medtronic Parkway NEMinneapolis, MN 55432United StatesIssuing Office:Florida District OfficeUnited States      Office of Medical Device and Radiological Health Operations (OMDRHO)Division 2 Central555 Winderley Pl # 200Maitland, FL 32751Telephone: (407) 475-4700  WARNING LETTER CMS # 562437                                                                                                            UNITED PARCEL SERVICE w/ DELIVERY CONFIRMATION',\n",
       " 'August 23, 2018',\n",
       " 'Omar IshrakChairman & CEOMedtronic Inc.710 Medtronic Parkway NEMinneapolis, MN 55432',\n",
       " 'Dear Mr. Ishrak:',\n",
       " 'During an inspection of Medtronic Puerto Rico Operations Company (MPROC), located at Ceiba Norte Industrial Park, 50 Road 31, Km 24.4, Juncos, Puerto Rico, on April 23 through May 15, 2018, investigators from the United States Food and Drug Administration (FDA) determined that Medtronic MPROC Juncos manufactures implantable pacemakers, implantable cardioverter defibrillators, cardiac resynchronization devices, and other related products. Under section 201(h) of the Federal Food, Drug, and Cosmetic Act (the Act), 21 U.S.C. § 321(h), these products are devices because they are intended for use in the diagnosis of disease or other conditions or in the cure, mitigation, treatment, or prevention of disease, or to affect the structure or any function of the body.',\n",
       " 'This inspection revealed that these devices are adulterated within the meaning of section 501(h) of the Act, 21 U.S.C. § 351(h), in that the methods used in, or the facilities or controls used for, their manufacture, packing, storage, or installation are not in conformity with the current good manufacturing practice requirements of the Quality System regulation found at Title 21, Code of Federal Regulations (CFR), Part 820. You may find the Act and FDA’s regulations through links in FDA’s home page at www.fda.gov. We received your firm’s responses dated June 6 and July 13, 2018, concerning our investigators’ observations noted on the Form FDA 483 (FDA 483), Inspectional Observations, issued to your firm on May 15, 2018. We address these responses below in relation to violations observed during the inspection, which include: 1.    Failure to validate a process whose results cannot be fully verified by subsequent inspection and test according to established procedures, which is required by 21 CFR 820.75(a). Specifically, (b)(4) processes (b)(4) were not validated on Blackwell implantable cardiac defibrillators (ICDs). These (b)(4) processes (b)(4) in ICDs that failed due to high voltage arcing. This led to your firm’s recall Z-0582/9-2018.  We reviewed your firm’s responses to the FDA 483 and acknowledge your commitment to: (a) (b)(4) process steps (b)(4), (b) update supplemental material for process validation to clarify that each (b)(4) must be assessed and challenged during process validation, (c) update the change control process to incorporate instructions on how to assess risk or unintended consequence of (b)(4), (d) assess (b)(4) processes for ICDs to determine if they were properly validated and have adequate process controls, and (e) perform an assessment of process validations for Blackwell ICDs non-fully verifiable processes to evaluate if applicable product specifications were challenged per process validation and design transfer requirements. Your responses appear to be adequate; however, some of your firm’s actions are still in progress, and a follow-up inspection by FDA will be necessary to verify compliance. 2.   Failure to document (b)(4) activities in the device history record (DHR) as required by 21 CFR 820.90(b)(2). Specifically, (b)(4) on implantable cardiac defibrillators (ICDs) was not documented in device history records. We reviewed your firm’s responses to the FDA 483 and acknowledge your commitment to: (a) (b)(4) process, (b) update product identification and traceability procedures to clarity that (b)(4) must be documented, (c) update your training of new hires and manufacturing personnel, (d) assess manufacturing areas to identify whether similar conduct is occurring elsewhere, and (e) establish more robust equipment and/or procedure controls on ICD equipment used in manufacturing to help prevent the occurrence of undocumented (b)(4). Your responses appear to be adequate; however, some of your firm’s actions are still in progress, and a follow-up inspection by FDA will be necessary to verify compliance. Your firm should take prompt action to correct the violations cited in this letter. Failure to promptly correct these violations may result in regulatory action being initiated by the FDA without further notice. These actions include, but are not limited to, seizure, injunction, and civil money penalties.  Also, federal agencies may be advised of the issuance of Warning Letters about devices so that they may take this information into account when considering the award of contracts. Additionally, premarket approval applications for Class III devices to which the Quality System regulation violations are reasonably related will not be approved until the violations have been corrected.  Requests for Certificates to Foreign Governments will not be granted until the violations related to the subject devices have been corrected.',\n",
       " 'Please notify this office in writing within fifteen (15) business days from the date you receive this letter of the specific steps your firm has taken to correct the noted violations, as well as an explanation of how your firm plans to prevent these violations, or similar violations, from occurring again.  Include documentation of the corrections and/or corrective actions (which must address systemic problems) that your firm has taken.  If your firm’s planned corrections and/or corrective actions will occur over time, please include a timetable for implementation of those activities.  If corrections and/or corrective actions cannot be completed within fifteen (15) business days, state the reason for the delay and the time within which these activities will be completed. Your firm’s response should be comprehensive and address all violations included in this Warning Letter. Additionally, our investigators cited observations on the FDA 483 in the areas of corrective and preventive action (21 CFR 820.100), acceptance activities (21 CFR 820.80), statistical techniques (21 CFR 820.250), and inspection, measuring, and test equipment (21 CFR 820.72).  Your firm’s responses appear to adequately address these observations. Implementation and effectiveness of your corrective actions will be evaluated during a follow-up inspection. If you have questions regarding this letter, please contact Timothy G. Philips, Compliance Officer, by telephone at 612-758-7133, or by e-mail at Timothy.Philips@fda.hhs.gov. Please send your reply to this Warning Letter to Blake Bevill, Program Division Director, using the electronic mailbox ORADevices2FirmResponse@fda.hhs.gov. Any attachments should be labeled and/or identified for ease of review. Documentation should be submitted as a single pdf file, with bookmarks to easily identify table of contents, memos, attachments, etc.   If a single pdf file exceeds the 100MB size limit, please submit multiple pdf files, as appropriate. Refer to CMS Case #560736 when replying. Finally, you should know that this letter is not intended to be an all-inclusive list of the violations at your firm’s facility.  It is your firm’s responsibility to ensure compliance with applicable laws and regulations administered by FDA.  The specific violations noted in this letter and in the Inspectional Observations, FDA 483, issued at the close of the inspection may be symptomatic of serious problems in your firm’s manufacturing and quality management systems.  Your firm should investigate and determine the causes of the violations, and take prompt actions to correct the violations and bring the products into compliance. ',\n",
       " 'Sincerely,']"
      ]
     },
     "execution_count": 33,
     "metadata": {},
     "output_type": "execute_result"
    }
   ],
   "source": [
    "medtronic_warning[2]"
   ]
  },
  {
   "cell_type": "code",
   "execution_count": 34,
   "id": "44941438",
   "metadata": {},
   "outputs": [],
   "source": [
    "jude1 = jude[0]"
   ]
  },
  {
   "cell_type": "code",
   "execution_count": 35,
   "id": "35381225",
   "metadata": {},
   "outputs": [
    {
     "data": {
      "text/plain": [
       "['>WARNING LETTERAbbott (St Jude Medical Inc.)                                    MARCS-CMS 519686 —           April 12, 2017ShareTweetLinkedinEmailPrintRecipient:Abbott (St Jude Medical Inc.)United StatesIssuing Office:Center for Devices and Radiological HealthUnited States      10903 New Hampshire AvenueSilver Spring, MD  20993  WARNING LETTER',\n",
       " ' VIA UNITED PARCEL SERVICE                                  April 12, 2017',\n",
       " 'Mike RousseauPresidentAbbottCardiovascular and Neuromodulation15900 Valley View CourtSylmar, California 91342-3577  ',\n",
       " 'Dear Mr. Rousseau: During an inspection of your firm located in Sylmar, CA,on February 7 through February 17, 2017, investigators from the United States Food and Drug Administration (FDA) determined that your firm manufactures the Fortify, Unify, Assura (including Quadra) implantable cardioverter defibrillators and cardiac resynchronization therapy defibrillators, and the Merlin@home monitor.  Under section 201(h) of the Federal Food, Drug, and Cosmetic Act (the Act), 21 U.S.C. § 321(h), these products are devices because they are intended for use in the diagnosis of disease or other conditions or in the cure, mitigation, treatment, or prevention of disease, or to affect the structure or function of the body.',\n",
       " 'This inspection revealed that these devices are adulterated within the meaning of section 501(h) of the Act, 21 U.S.C. § 351(h), in that the methods used in, or the facilities or controls used for, their manufacture, packing, storage, or installation are not in conformity with the current good manufacturing practice requirements of the Quality System (QS) regulation found at Title 21, Code of Federal Regulations (CFR), Part 820. We received a response from Vishnu Charan, Vice President of Operations, dated March 13, 2017, concerning our investigator’s observations noted on the Form FDA 483 (FDA 483), List of Inspectional Observations that was issued to your firm. We address this response below, in relation to each of the noted violations. These violations include, but are not limited to, the following:',\n",
       " '1.      Failure to establish and maintain procedures for implementing corrective and preventive actions, as required by 21 CFR 820.100(a). For example:',\n",
       " 'a.  FDA reviewed 42 of your firm’s Product Analysis Reports, produced between 2011 and 2014. These reports showed, in instances when your supplier’s analysis provided evidence that lithium cluster bridging had prematurely drained the battery, your firm repeatedly concluded that the cause of premature depletion of Greatbatch QHR2850 batteries “could not be determined.”  Your firm later categorized these as “unconfirmed” lithium bridges. Your firm’s Corrective Action and Preventive Action (CAPA) Procedure, (b)(4), Revision AA states, in Section 2.0, the level of corrective action and preventive action shall be commensurate with the significance and risk of the nonconformance. Further, Section 5.0 states the risk evaluation of nonconformances is based on three factors: severity, probability, and detectability.   By basing your firm’s risk evaluation on “confirmed” cases and not considering the potential for “unconfirmed” cases to have been shorts, your firm underestimated the occurrence of the hazardous situation. This delayed initiation of CAPA #13-017 Titled: Lithium Clusters Shorts in M2850 Cells, until December 18, 2013, and your firm continued to distribute devices containing this battery until October 2016.',\n",
       " 'The adequacy of your firm’s response cannot be determined at this time. Your firm provided a summary of, and implementation dates for, several corrections, corrective actions, and systemic corrective actions. However, in your firm’s response, you failed to provide evidence of implementation for your firm’s corrections, corrective actions, and systemic corrective actions. ',\n",
       " 'b.  Section 5 of both your SJM Corrective and Preventive Action (CAPA) SOP, (b)(4),  Revision D, and SJM Corrective and Preventive Action WI, (b)(4),  Revision C, defines your firm’s CAPA process and the supporting procedures and forms associated with activities performed within your firm’s CAPA process. Additionally, Figure 2 in your firm’s SJM Corrective and Preventive Action WI, (b)(4),  Revision C, describes the CAPA Risk Assessment and Resolution Process that proceeds after a CAPA file is opened.  Your firm failed to follow its CAPA procedures when evaluating a third party report, dated August 25, 2016, in that your firm released Merlin@home Cybersecurity Risk Assessment (b)(4), , Revision G, an updated risk assessment and its corresponding corrective action, Merlin@home EX2000 v.8.2.2, (pilot release on December 7, 2016 with full release on January 9, 2017), before approving the CAPA request for this issue, CAPA#17012 Titled: CRM Product Cybersecurity, on February 7, 2017.  Your firm conducted a risk assessment and a corrective action outside of your CAPA system. Your firm did not confirm all required corrective and preventive actions were completed, including a full root cause investigation and the identification of actions to correct and prevent recurrence of potential cybersecurity vulnerabilities, as required by your CAPA procedures. Additionally, your firm did not confirm that verification or validation activities for the corrective actions had been completed, to ensure the corrective actions were effective and did not adversely affect the finished device.',\n",
       " 'We have reviewed your response and conclude that it is not adequate.  Your firm provided a summary of and implementation dates for several corrections, and corrective actions. However, in your firm’s response, you failed to consider systemic corrective actions and the necessary information to include evidence of implementation for your firm’s corrections, corrective actions, and systemic corrective actions. ',\n",
       " 'c.  Your management review and medical advisory boards did not receive relevant and complete information concerning the premature battery depletion issue, as required by Section 5.3 your firm’s procedure, Quality Management Review SOP (b)(4),  Revision R. On November 11 and November 12, 2014, two separate presentations were provided for management review and to your MAB for review concerning premature battery depletions. The presentation to your firm’s MAB included rates of occurrence of premature battery depletions caused by “confirmed” lithium cluster formations. The presentation did not include information on the potential for “unconfirmed” cases to be shorts, despite possessing evidence provided by your supplier regarding premature battery depletion caused by lithium bridges. This resulted in significant underestimations of the probability of occurrence of the hazardous situation. Additionally, both presentations stated there were no serious injury or death directly related to lithium cluster formations. However, the first related death to this issue occurred on (b)(6) (MDR#2938836-2014-13599). Your firm completed its returned device analysis, related to this death, on August 27, 2014. The analysis concluded the cause of premature battery depletion “could not be determined” despite evidence of lithium bridges, provided by your supplier. This death was not disclosed in these presentations for management or MAB review. ',\n",
       " 'We have reviewed your response and conclude that it is not adequate. Your firm provided a summary of and implementation dates for several corrections, and corrective actions. However, in your firm’s response, you failed to consider systemic corrective actions and the necessary information to include evidence of implementation for your firm’s corrections, corrective actions, and systemic corrective actions. ',\n",
       " '2.      Failure to establish and maintain procedures to control product that does not conform to specified requirements, as required by 21 CFR 820.90(a).   For example: On October 11, 2016,  your firm initiated a recall for your firm’s Fortify, Unify, and Assura Implantable Cardioverter Defibrillators (ICDs) and Cardiac Resynchronization Therapy Defibrillators (CRT-Ds) due to premature battery depletion. Subsequently, ten implantable cardiac defibrillators (ICDs), subject to this recall, were shipped from your firm’s distribution centers to St. Jude US Field Representatives. Between October 14 and October 26, 2016, an additional seven ICDs, also subject to this recall and in the control of St. Jude US Field Representatives, were implanted into patients.   ',\n",
       " 'The adequacy of your firm’s response cannot be determined at this time.  Your firm provided a summary of, and implementation dates for, several corrections, corrective actions, and systemic corrective actions. However, in your firm’s response, you failed to provide evidence of implementation for your firm’s corrections, corrective actions, and systemic corrective actions. ',\n",
       " '3.      Failure to ensure that design verification shall confirm that the design output meets the design input requirements, as required by 21 CFR 820.30(f). For example: Your firm has a design input, (b)(4),  of “the Remote Monitoring device shall only open network ports to authorized interfaces” which is documented in Merlin@home EX2000 (b)(4) Software System Requirements Specification, Document (b)(4). This is implemented as a design output in your firm’s Merlin@home Software Requirements Specification Uploads (b)(4).',\n",
       " 'This design output was not fully verified during your firm’s design verification activities. According to your firm’s testing procedures, (b)(4), Final Configuration Test Procedures, (b)(4) and Final Configuration Test Procedures Document (b)(4),  the requirement was only partially verified by testing that the network ports opened with an authorized interface.   Your testing procedures did not require full verification to ensure the network ports would not open with an unauthorized interface.    ',\n",
       " 'The adequacy of your firm’s response cannot be determined at this time. Your firm provided a summary of, and implementation dates for, several corrections, corrective actions, and systemic corrective actions. However, in your firm’s response, you failed to provide evidence of implementation for your firm’s corrections, corrective actions, and systemic corrective actions.',\n",
       " '4.      Failure to ensure that design validation shall include risk analysis, where appropriate, as required by 21 CFR 820.30(g).  For example: ',\n",
       " 'a.  Your firm failed to accurately incorporate the findings of a third-party assessment you commissioned, dated April 2, 2014, into your firm’s updated cybersecurity risk assessments for your high voltage and peripheral devices. Specifically:',\n",
       " '1.      Your firm’s updated Cybersecurity Risk Assessments, (b)(4) Cybersecurity Risk Assessment, (b)(4), , Revision A, April 2, 2015 and Merlin@home Product Security Risk Assessment, (b)(4), Revision B, May 21, 2014 failed to accurately incorporate the third party report’s findings into its security risk ratings, causing your post-mitigation risk estimations to be acceptable, when, according to the report, several risks were not adequately controlled.2.      The same report identified the hardcoded universal unlock code as an exploitable hazard for your firm’s High Voltage devices.  Your firm’s Global Risk Management Procedure, SOP (b)(4),  Section 5.3.3 of Revision T, Released November 2, 2012, and Section 5.1.3 of Revision X, Released November 8, 2016, requires your firm to assess if new hazards are introduced, or previously identified hazardous situations are affected, by risk control measures. Your firm identified the hardcoded universal unlock code as a risk control measure for emergent communication. However, you failed to identify this risk control also as a hazard.  Therefore, you failed to properly estimate and evaluate the risk associated with the hardcoded universal lock code in the design of your High Voltage devices. ',\n",
       " 'The adequacy of your firm’s response cannot be determined at this time. Your firm provided a summary of, and implementation dates for, several corrections, corrective actions, and systemic corrective actions. However, in your firm’s response, you failed to provide evidence of implementation for your firm’s corrections, corrective actions and systemic corrective actions.',\n",
       " 'b.  Section 5.1 of your firm’s Global Risk Management Procedure, SOP (b)(4),  Revision T, outlines your firm’s risk management policy, which states that “risk management shall be integrated into all product life cycle stages, in order to assure early identification and timely mitigation of risks that could impact patient safety.” Your firm’s Returned Product Analysis Record for (b)(4)  was completed by your firm on September 12, 2011, for a device that was explanted on July 1, 2011, due to premature battery depletion. This analysis included evidence of lithium ion cluster formation. However, your firm failed to identify lithium clusters as a hazardous situation and a potential cause of premature battery depletion, through its risk management process. This process is used for batteries that are used in the Unify, Fortify, Assura, and Quadra ICDs and CRT-Ds. ',\n",
       " 'We have reviewed your response and conclude that it is not adequate. In your firm’s response, you failed to provide a description and evidence of implementation for corrections and corrective actions, to include consideration of systemic corrective actions. You should take prompt action to correct the violations addressed in this letter. Failure to promptly correct these violations may result in regulatory action being initiated by the FDA without further notice. These actions include, but are not limited to, seizure, injunction, and civil money penalties. Also, federal agencies may be advised of the issuance of Warning Letters about devices so that they may take this information into account when considering the award of contracts. Additionally, premarket approval applications for Class III devices to which the Quality System regulation deviations are reasonably related will not be approved until the violations have been corrected. Requests for Certificates to Foreign Governments will not be granted until the violations related to the subject devices have been corrected. Please notify this office in writing, within fifteen business days from the date you receive this letter, of the specific steps you have taken to correct the noted violations, as well as an explanation of how your firm plans to prevent these violations, or similar violations, from occurring again. Include documentation of the corrective action (which must address systemic problems) you your firm has taken. If your firm’s planned corrections and/or corrective actions will occur over time, please include a timetable for implementation of those activities. If corrections and/or corrective action cannot be completed within 15 business days, state the reason for the delay and the time within which these activities will be completed. Your firm’s response should be comprehensive and address all violations included in this Warning Letter.',\n",
       " 'Your response should be sent to: Food and Drug Administration, Center for Devices and Radiological Health, Office of Compliance, Field Inspections Support Branch, White Oak Building 66, Rm 3540, 10903 New Hampshire Ave., Silver Spring, MD 20993.   Refer to the Unique Identification Number (519686) when replying. If you have any questions about the content of this letter, please contact: Lorie Erikson at lorie.erikson@fda.hhs.gov or (301)796-7511.',\n",
       " 'Finally, you should know that this letter is not intended to be an all-inclusive list of the violations at your firm’s facility. It is your firm’s responsibility to ensure compliance with applicable laws and regulations administered by FDA. The specific violations noted in this letter and in the Inspectional Observations, FDA 483, issued at the close of the inspection may be symptomatic of serious problems in your firm’s manufacturing and quality management systems. Your firm should investigate and determine the causes of the violations, and take prompt actions to correct the violations and bring the products into compliance. ',\n",
       " ' Sincerely yours,']"
      ]
     },
     "execution_count": 35,
     "metadata": {},
     "output_type": "execute_result"
    }
   ],
   "source": [
    "jude1"
   ]
  },
  {
   "cell_type": "code",
   "execution_count": 36,
   "id": "d58e64fe",
   "metadata": {},
   "outputs": [],
   "source": [
    "for i, text in enumerate(jude1):\n",
    "    jude1[i] = text.lower()\n",
    "\n",
    "for i, text in enumerate(jude1):\n",
    "    jude1[i] = re.sub('[,\\.!?â€™]', '', text)"
   ]
  },
  {
   "cell_type": "code",
   "execution_count": 37,
   "id": "96ab223d",
   "metadata": {},
   "outputs": [
    {
     "data": {
      "text/plain": [
       "['>warning letterabbott (st jude medical inc)                                    marcs-cms 519686 —           april 12 2017sharetweetlinkedinemailprintrecipient:abbott (st jude medical inc)united statesissuing office:center for devices and radiological healthunited states      10903 new hampshire avenuesilver spring md  20993  warning letter',\n",
       " ' via united parcel service                                  april 12 2017',\n",
       " 'mike rousseaupresidentabbottcardiovascular and neuromodulation15900 valley view courtsylmar california 91342-3577  ',\n",
       " 'dear mr rousseau: during an inspection of your firm located in sylmar caon february 7 through february 17 2017 investigators from the united states food and drug administration (fda) determined that your firm manufactures the fortify unify assura (including quadra) implantable cardioverter defibrillators and cardiac resynchronization therapy defibrillators and the merlin@home monitor  under section 201(h) of the federal food drug and cosmetic act (the act) 21 usc § 321(h) these products are devices because they are intended for use in the diagnosis of disease or other conditions or in the cure mitigation treatment or prevention of disease or to affect the structure or function of the body',\n",
       " 'this inspection revealed that these devices are adulterated within the meaning of section 501(h) of the act 21 usc § 351(h) in that the methods used in or the facilities or controls used for their manufacture packing storage or installation are not in conformity with the current good manufacturing practice requirements of the quality system (qs) regulation found at title 21 code of federal regulations (cfr) part 820 we received a response from vishnu charan vice president of operations dated march 13 2017 concerning our investigator’s observations noted on the form fda 483 (fda 483) list of inspectional observations that was issued to your firm we address this response below in relation to each of the noted violations these violations include but are not limited to the following:',\n",
       " '1      failure to establish and maintain procedures for implementing corrective and preventive actions as required by 21 cfr 820100(a) for example:',\n",
       " 'a  fda reviewed 42 of your firm’s product analysis reports produced between 2011 and 2014 these reports showed in instances when your supplier’s analysis provided evidence that lithium cluster bridging had prematurely drained the battery your firm repeatedly concluded that the cause of premature depletion of greatbatch qhr2850 batteries “could not be determined”  your firm later categorized these as “unconfirmed” lithium bridges your firm’s corrective action and preventive action (capa) procedure (b)(4) revision aa states in section 20 the level of corrective action and preventive action shall be commensurate with the significance and risk of the nonconformance further section 50 states the risk evaluation of nonconformances is based on three factors: severity probability and detectability   by basing your firm’s risk evaluation on “confirmed” cases and not considering the potential for “unconfirmed” cases to have been shorts your firm underestimated the occurrence of the hazardous situation this delayed initiation of capa #13-017 titled: lithium clusters shorts in m2850 cells until december 18 2013 and your firm continued to distribute devices containing this battery until october 2016',\n",
       " 'the adequacy of your firm’s response cannot be determined at this time your firm provided a summary of and implementation dates for several corrections corrective actions and systemic corrective actions however in your firm’s response you failed to provide evidence of implementation for your firm’s corrections corrective actions and systemic corrective actions ',\n",
       " 'b  section 5 of both your sjm corrective and preventive action (capa) sop (b)(4)  revision d and sjm corrective and preventive action wi (b)(4)  revision c defines your firm’s capa process and the supporting procedures and forms associated with activities performed within your firm’s capa process additionally figure 2 in your firm’s sjm corrective and preventive action wi (b)(4)  revision c describes the capa risk assessment and resolution process that proceeds after a capa file is opened  your firm failed to follow its capa procedures when evaluating a third party report dated august 25 2016 in that your firm released merlin@home cybersecurity risk assessment (b)(4)  revision g an updated risk assessment and its corresponding corrective action merlin@home ex2000 v822 (pilot release on december 7 2016 with full release on january 9 2017) before approving the capa request for this issue capa#17012 titled: crm product cybersecurity on february 7 2017  your firm conducted a risk assessment and a corrective action outside of your capa system your firm did not confirm all required corrective and preventive actions were completed including a full root cause investigation and the identification of actions to correct and prevent recurrence of potential cybersecurity vulnerabilities as required by your capa procedures additionally your firm did not confirm that verification or validation activities for the corrective actions had been completed to ensure the corrective actions were effective and did not adversely affect the finished device',\n",
       " 'we have reviewed your response and conclude that it is not adequate  your firm provided a summary of and implementation dates for several corrections and corrective actions however in your firm’s response you failed to consider systemic corrective actions and the necessary information to include evidence of implementation for your firm’s corrections corrective actions and systemic corrective actions ',\n",
       " 'c  your management review and medical advisory boards did not receive relevant and complete information concerning the premature battery depletion issue as required by section 53 your firm’s procedure quality management review sop (b)(4)  revision r on november 11 and november 12 2014 two separate presentations were provided for management review and to your mab for review concerning premature battery depletions the presentation to your firm’s mab included rates of occurrence of premature battery depletions caused by “confirmed” lithium cluster formations the presentation did not include information on the potential for “unconfirmed” cases to be shorts despite possessing evidence provided by your supplier regarding premature battery depletion caused by lithium bridges this resulted in significant underestimations of the probability of occurrence of the hazardous situation additionally both presentations stated there were no serious injury or death directly related to lithium cluster formations however the first related death to this issue occurred on (b)(6) (mdr#2938836-2014-13599) your firm completed its returned device analysis related to this death on august 27 2014 the analysis concluded the cause of premature battery depletion “could not be determined” despite evidence of lithium bridges provided by your supplier this death was not disclosed in these presentations for management or mab review ',\n",
       " 'we have reviewed your response and conclude that it is not adequate your firm provided a summary of and implementation dates for several corrections and corrective actions however in your firm’s response you failed to consider systemic corrective actions and the necessary information to include evidence of implementation for your firm’s corrections corrective actions and systemic corrective actions ',\n",
       " '2      failure to establish and maintain procedures to control product that does not conform to specified requirements as required by 21 cfr 82090(a)   for example: on october 11 2016  your firm initiated a recall for your firm’s fortify unify and assura implantable cardioverter defibrillators (icds) and cardiac resynchronization therapy defibrillators (crt-ds) due to premature battery depletion subsequently ten implantable cardiac defibrillators (icds) subject to this recall were shipped from your firm’s distribution centers to st jude us field representatives between october 14 and october 26 2016 an additional seven icds also subject to this recall and in the control of st jude us field representatives were implanted into patients   ',\n",
       " 'the adequacy of your firm’s response cannot be determined at this time  your firm provided a summary of and implementation dates for several corrections corrective actions and systemic corrective actions however in your firm’s response you failed to provide evidence of implementation for your firm’s corrections corrective actions and systemic corrective actions ',\n",
       " '3      failure to ensure that design verification shall confirm that the design output meets the design input requirements as required by 21 cfr 82030(f) for example: your firm has a design input (b)(4)  of “the remote monitoring device shall only open network ports to authorized interfaces” which is documented in merlin@home ex2000 (b)(4) software system requirements specification document (b)(4) this is implemented as a design output in your firm’s merlin@home software requirements specification uploads (b)(4)',\n",
       " 'this design output was not fully verified during your firm’s design verification activities according to your firm’s testing procedures (b)(4) final configuration test procedures (b)(4) and final configuration test procedures document (b)(4)  the requirement was only partially verified by testing that the network ports opened with an authorized interface   your testing procedures did not require full verification to ensure the network ports would not open with an unauthorized interface    ',\n",
       " 'the adequacy of your firm’s response cannot be determined at this time your firm provided a summary of and implementation dates for several corrections corrective actions and systemic corrective actions however in your firm’s response you failed to provide evidence of implementation for your firm’s corrections corrective actions and systemic corrective actions',\n",
       " '4      failure to ensure that design validation shall include risk analysis where appropriate as required by 21 cfr 82030(g)  for example: ',\n",
       " 'a  your firm failed to accurately incorporate the findings of a third-party assessment you commissioned dated april 2 2014 into your firm’s updated cybersecurity risk assessments for your high voltage and peripheral devices specifically:',\n",
       " '1      your firm’s updated cybersecurity risk assessments (b)(4) cybersecurity risk assessment (b)(4)  revision a april 2 2015 and merlin@home product security risk assessment (b)(4) revision b may 21 2014 failed to accurately incorporate the third party report’s findings into its security risk ratings causing your post-mitigation risk estimations to be acceptable when according to the report several risks were not adequately controlled2      the same report identified the hardcoded universal unlock code as an exploitable hazard for your firm’s high voltage devices  your firm’s global risk management procedure sop (b)(4)  section 533 of revision t released november 2 2012 and section 513 of revision x released november 8 2016 requires your firm to assess if new hazards are introduced or previously identified hazardous situations are affected by risk control measures your firm identified the hardcoded universal unlock code as a risk control measure for emergent communication however you failed to identify this risk control also as a hazard  therefore you failed to properly estimate and evaluate the risk associated with the hardcoded universal lock code in the design of your high voltage devices ',\n",
       " 'the adequacy of your firm’s response cannot be determined at this time your firm provided a summary of and implementation dates for several corrections corrective actions and systemic corrective actions however in your firm’s response you failed to provide evidence of implementation for your firm’s corrections corrective actions and systemic corrective actions',\n",
       " 'b  section 51 of your firm’s global risk management procedure sop (b)(4)  revision t outlines your firm’s risk management policy which states that “risk management shall be integrated into all product life cycle stages in order to assure early identification and timely mitigation of risks that could impact patient safety” your firm’s returned product analysis record for (b)(4)  was completed by your firm on september 12 2011 for a device that was explanted on july 1 2011 due to premature battery depletion this analysis included evidence of lithium ion cluster formation however your firm failed to identify lithium clusters as a hazardous situation and a potential cause of premature battery depletion through its risk management process this process is used for batteries that are used in the unify fortify assura and quadra icds and crt-ds ',\n",
       " 'we have reviewed your response and conclude that it is not adequate in your firm’s response you failed to provide a description and evidence of implementation for corrections and corrective actions to include consideration of systemic corrective actions you should take prompt action to correct the violations addressed in this letter failure to promptly correct these violations may result in regulatory action being initiated by the fda without further notice these actions include but are not limited to seizure injunction and civil money penalties also federal agencies may be advised of the issuance of warning letters about devices so that they may take this information into account when considering the award of contracts additionally premarket approval applications for class iii devices to which the quality system regulation deviations are reasonably related will not be approved until the violations have been corrected requests for certificates to foreign governments will not be granted until the violations related to the subject devices have been corrected please notify this office in writing within fifteen business days from the date you receive this letter of the specific steps you have taken to correct the noted violations as well as an explanation of how your firm plans to prevent these violations or similar violations from occurring again include documentation of the corrective action (which must address systemic problems) you your firm has taken if your firm’s planned corrections and/or corrective actions will occur over time please include a timetable for implementation of those activities if corrections and/or corrective action cannot be completed within 15 business days state the reason for the delay and the time within which these activities will be completed your firm’s response should be comprehensive and address all violations included in this warning letter',\n",
       " 'your response should be sent to: food and drug administration center for devices and radiological health office of compliance field inspections support branch white oak building 66 rm 3540 10903 new hampshire ave silver spring md 20993   refer to the unique identification number (519686) when replying if you have any questions about the content of this letter please contact: lorie erikson at lorieerikson@fdahhsgov or (301)796-7511',\n",
       " 'finally you should know that this letter is not intended to be an all-inclusive list of the violations at your firm’s facility it is your firm’s responsibility to ensure compliance with applicable laws and regulations administered by fda the specific violations noted in this letter and in the inspectional observations fda 483 issued at the close of the inspection may be symptomatic of serious problems in your firm’s manufacturing and quality management systems your firm should investigate and determine the causes of the violations and take prompt actions to correct the violations and bring the products into compliance ',\n",
       " ' sincerely yours']"
      ]
     },
     "execution_count": 37,
     "metadata": {},
     "output_type": "execute_result"
    }
   ],
   "source": [
    "jude1"
   ]
  },
  {
   "cell_type": "code",
   "execution_count": 38,
   "id": "c8ea4c3e",
   "metadata": {},
   "outputs": [],
   "source": [
    "import nltk\n",
    "from nltk.stem.snowball import SnowballStemmer\n",
    "from nltk.stem import WordNetLemmatizer\n",
    "from nltk.corpus import stopwords\n",
    "from wordcloud import WordCloud, STOPWORDS, ImageColorGenerator\n",
    "import matplotlib.pyplot as plt"
   ]
  },
  {
   "cell_type": "code",
   "execution_count": 39,
   "id": "1044b0c1",
   "metadata": {},
   "outputs": [],
   "source": [
    "stopwords = set(STOPWORDS)\n",
    "lemmatizer = WordNetLemmatizer()"
   ]
  },
  {
   "cell_type": "code",
   "execution_count": 41,
   "id": "fe21e556",
   "metadata": {},
   "outputs": [
    {
     "data": {
      "text/plain": [
       "['>warning letterabbott (st jude medical inc) marcs-cms 519686 — april 12 2017sharetweetlinkedinemailprintrecipient:abbott (st jude medical inc)united statesissuing office:center for device and radiological healthunited state 10903 new hampshire avenuesilver spring md 20993 warning letter',\n",
       " 'via united parcel service april 12 2017',\n",
       " 'mike rousseaupresidentabbottcardiovascular and neuromodulation15900 valley view courtsylmar california 91342-3577',\n",
       " 'dear mr rousseau: during an inspection of your firm located in sylmar caon february 7 through february 17 2017 investigator from the united state food and drug administration (fda) determined that your firm manufacture the fortify unify assura (including quadra) implantable cardioverter defibrillator and cardiac resynchronization therapy defibrillator and the merlin@home monitor under section 201(h) of the federal food drug and cosmetic act (the act) 21 usc § 321(h) these product are device because they are intended for use in the diagnosis of disease or other condition or in the cure mitigation treatment or prevention of disease or to affect the structure or function of the body',\n",
       " 'this inspection revealed that these device are adulterated within the meaning of section 501(h) of the act 21 usc § 351(h) in that the method used in or the facility or control used for their manufacture packing storage or installation are not in conformity with the current good manufacturing practice requirement of the quality system (qs) regulation found at title 21 code of federal regulation (cfr) part 820 we received a response from vishnu charan vice president of operation dated march 13 2017 concerning our investigator’s observation noted on the form fda 483 (fda 483) list of inspectional observation that wa issued to your firm we address this response below in relation to each of the noted violation these violation include but are not limited to the following:',\n",
       " '1 failure to establish and maintain procedure for implementing corrective and preventive action a required by 21 cfr 820100(a) for example:',\n",
       " 'a fda reviewed 42 of your firm’s product analysis report produced between 2011 and 2014 these report showed in instance when your supplier’s analysis provided evidence that lithium cluster bridging had prematurely drained the battery your firm repeatedly concluded that the cause of premature depletion of greatbatch qhr2850 battery “could not be determined” your firm later categorized these a “unconfirmed” lithium bridge your firm’s corrective action and preventive action (capa) procedure (b)(4) revision aa state in section 20 the level of corrective action and preventive action shall be commensurate with the significance and risk of the nonconformance further section 50 state the risk evaluation of nonconformance is based on three factors: severity probability and detectability by basing your firm’s risk evaluation on “confirmed” case and not considering the potential for “unconfirmed” case to have been short your firm underestimated the occurrence of the hazardous situation this delayed initiation of capa #13-017 titled: lithium cluster short in m2850 cell until december 18 2013 and your firm continued to distribute device containing this battery until october 2016',\n",
       " 'the adequacy of your firm’s response cannot be determined at this time your firm provided a summary of and implementation date for several correction corrective action and systemic corrective action however in your firm’s response you failed to provide evidence of implementation for your firm’s correction corrective action and systemic corrective action',\n",
       " 'b section 5 of both your sjm corrective and preventive action (capa) sop (b)(4) revision d and sjm corrective and preventive action wi (b)(4) revision c defines your firm’s capa process and the supporting procedure and form associated with activity performed within your firm’s capa process additionally figure 2 in your firm’s sjm corrective and preventive action wi (b)(4) revision c describes the capa risk assessment and resolution process that proceeds after a capa file is opened your firm failed to follow it capa procedure when evaluating a third party report dated august 25 2016 in that your firm released merlin@home cybersecurity risk assessment (b)(4) revision g an updated risk assessment and it corresponding corrective action merlin@home ex2000 v822 (pilot release on december 7 2016 with full release on january 9 2017) before approving the capa request for this issue capa#17012 titled: crm product cybersecurity on february 7 2017 your firm conducted a risk assessment and a corrective action outside of your capa system your firm did not confirm all required corrective and preventive action were completed including a full root cause investigation and the identification of action to correct and prevent recurrence of potential cybersecurity vulnerability a required by your capa procedure additionally your firm did not confirm that verification or validation activity for the corrective action had been completed to ensure the corrective action were effective and did not adversely affect the finished device',\n",
       " 'we have reviewed your response and conclude that it is not adequate your firm provided a summary of and implementation date for several correction and corrective action however in your firm’s response you failed to consider systemic corrective action and the necessary information to include evidence of implementation for your firm’s correction corrective action and systemic corrective action',\n",
       " 'c your management review and medical advisory board did not receive relevant and complete information concerning the premature battery depletion issue a required by section 53 your firm’s procedure quality management review sop (b)(4) revision r on november 11 and november 12 2014 two separate presentation were provided for management review and to your mab for review concerning premature battery depletion the presentation to your firm’s mab included rate of occurrence of premature battery depletion caused by “confirmed” lithium cluster formation the presentation did not include information on the potential for “unconfirmed” case to be short despite possessing evidence provided by your supplier regarding premature battery depletion caused by lithium bridge this resulted in significant underestimation of the probability of occurrence of the hazardous situation additionally both presentation stated there were no serious injury or death directly related to lithium cluster formation however the first related death to this issue occurred on (b)(6) (mdr#2938836-2014-13599) your firm completed it returned device analysis related to this death on august 27 2014 the analysis concluded the cause of premature battery depletion “could not be determined” despite evidence of lithium bridge provided by your supplier this death wa not disclosed in these presentation for management or mab review',\n",
       " 'we have reviewed your response and conclude that it is not adequate your firm provided a summary of and implementation date for several correction and corrective action however in your firm’s response you failed to consider systemic corrective action and the necessary information to include evidence of implementation for your firm’s correction corrective action and systemic corrective action',\n",
       " '2 failure to establish and maintain procedure to control product that doe not conform to specified requirement a required by 21 cfr 82090(a) for example: on october 11 2016 your firm initiated a recall for your firm’s fortify unify and assura implantable cardioverter defibrillator (icds) and cardiac resynchronization therapy defibrillator (crt-ds) due to premature battery depletion subsequently ten implantable cardiac defibrillator (icds) subject to this recall were shipped from your firm’s distribution center to st jude u field representative between october 14 and october 26 2016 an additional seven icds also subject to this recall and in the control of st jude u field representative were implanted into patient',\n",
       " 'the adequacy of your firm’s response cannot be determined at this time your firm provided a summary of and implementation date for several correction corrective action and systemic corrective action however in your firm’s response you failed to provide evidence of implementation for your firm’s correction corrective action and systemic corrective action',\n",
       " '3 failure to ensure that design verification shall confirm that the design output meet the design input requirement a required by 21 cfr 82030(f) for example: your firm ha a design input (b)(4) of “the remote monitoring device shall only open network port to authorized interfaces” which is documented in merlin@home ex2000 (b)(4) software system requirement specification document (b)(4) this is implemented a a design output in your firm’s merlin@home software requirement specification uploads (b)(4)',\n",
       " 'this design output wa not fully verified during your firm’s design verification activity according to your firm’s testing procedure (b)(4) final configuration test procedure (b)(4) and final configuration test procedure document (b)(4) the requirement wa only partially verified by testing that the network port opened with an authorized interface your testing procedure did not require full verification to ensure the network port would not open with an unauthorized interface',\n",
       " 'the adequacy of your firm’s response cannot be determined at this time your firm provided a summary of and implementation date for several correction corrective action and systemic corrective action however in your firm’s response you failed to provide evidence of implementation for your firm’s correction corrective action and systemic corrective action',\n",
       " '4 failure to ensure that design validation shall include risk analysis where appropriate a required by 21 cfr 82030(g) for example:',\n",
       " 'a your firm failed to accurately incorporate the finding of a third-party assessment you commissioned dated april 2 2014 into your firm’s updated cybersecurity risk assessment for your high voltage and peripheral device specifically:',\n",
       " '1 your firm’s updated cybersecurity risk assessment (b)(4) cybersecurity risk assessment (b)(4) revision a april 2 2015 and merlin@home product security risk assessment (b)(4) revision b may 21 2014 failed to accurately incorporate the third party report’s finding into it security risk rating causing your post-mitigation risk estimation to be acceptable when according to the report several risk were not adequately controlled2 the same report identified the hardcoded universal unlock code a an exploitable hazard for your firm’s high voltage device your firm’s global risk management procedure sop (b)(4) section 533 of revision t released november 2 2012 and section 513 of revision x released november 8 2016 requires your firm to ass if new hazard are introduced or previously identified hazardous situation are affected by risk control measure your firm identified the hardcoded universal unlock code a a risk control measure for emergent communication however you failed to identify this risk control also a a hazard therefore you failed to properly estimate and evaluate the risk associated with the hardcoded universal lock code in the design of your high voltage device',\n",
       " 'the adequacy of your firm’s response cannot be determined at this time your firm provided a summary of and implementation date for several correction corrective action and systemic corrective action however in your firm’s response you failed to provide evidence of implementation for your firm’s correction corrective action and systemic corrective action',\n",
       " 'b section 51 of your firm’s global risk management procedure sop (b)(4) revision t outline your firm’s risk management policy which state that “risk management shall be integrated into all product life cycle stage in order to assure early identification and timely mitigation of risk that could impact patient safety” your firm’s returned product analysis record for (b)(4) wa completed by your firm on september 12 2011 for a device that wa explanted on july 1 2011 due to premature battery depletion this analysis included evidence of lithium ion cluster formation however your firm failed to identify lithium cluster a a hazardous situation and a potential cause of premature battery depletion through it risk management process this process is used for battery that are used in the unify fortify assura and quadra icds and crt-ds',\n",
       " 'we have reviewed your response and conclude that it is not adequate in your firm’s response you failed to provide a description and evidence of implementation for correction and corrective action to include consideration of systemic corrective action you should take prompt action to correct the violation addressed in this letter failure to promptly correct these violation may result in regulatory action being initiated by the fda without further notice these action include but are not limited to seizure injunction and civil money penalty also federal agency may be advised of the issuance of warning letter about device so that they may take this information into account when considering the award of contract additionally premarket approval application for class iii device to which the quality system regulation deviation are reasonably related will not be approved until the violation have been corrected request for certificate to foreign government will not be granted until the violation related to the subject device have been corrected please notify this office in writing within fifteen business day from the date you receive this letter of the specific step you have taken to correct the noted violation a well a an explanation of how your firm plan to prevent these violation or similar violation from occurring again include documentation of the corrective action (which must address systemic problems) you your firm ha taken if your firm’s planned correction and/or corrective action will occur over time please include a timetable for implementation of those activity if correction and/or corrective action cannot be completed within 15 business day state the reason for the delay and the time within which these activity will be completed your firm’s response should be comprehensive and address all violation included in this warning letter',\n",
       " 'your response should be sent to: food and drug administration center for device and radiological health office of compliance field inspection support branch white oak building 66 rm 3540 10903 new hampshire ave silver spring md 20993 refer to the unique identification number (519686) when replying if you have any question about the content of this letter please contact: lorie erikson at lorieerikson@fdahhsgov or (301)796-7511',\n",
       " 'finally you should know that this letter is not intended to be an all-inclusive list of the violation at your firm’s facility it is your firm’s responsibility to ensure compliance with applicable law and regulation administered by fda the specific violation noted in this letter and in the inspectional observation fda 483 issued at the close of the inspection may be symptomatic of serious problem in your firm’s manufacturing and quality management system your firm should investigate and determine the cause of the violation and take prompt action to correct the violation and bring the product into compliance',\n",
       " 'sincerely yours']"
      ]
     },
     "execution_count": 41,
     "metadata": {},
     "output_type": "execute_result"
    }
   ],
   "source": [
    "for i, text in enumerate(jude1):\n",
    "    lemmatized_sentence = \" \".join([lemmatizer.lemmatize(word) for word in text.split()])\n",
    "    jude1[i] = lemmatized_sentence\n",
    "\n",
    "jude1"
   ]
  },
  {
   "cell_type": "code",
   "execution_count": 42,
   "id": "ec3e8494",
   "metadata": {},
   "outputs": [],
   "source": [
    "stopwords.update(['caon', \"firm’s\", \"firm\", \"analysis\",\"failed\",'dear','mr','rousseau',\"rousseau:\" \"during\",'will'])"
   ]
  },
  {
   "cell_type": "markdown",
   "id": "7f4d6e21",
   "metadata": {},
   "source": [
    "## N-gram"
   ]
  },
  {
   "cell_type": "code",
   "execution_count": 43,
   "id": "1af660fc",
   "metadata": {},
   "outputs": [],
   "source": [
    "def generate_ngrams(text, n_gram = 1):\n",
    "    token = [token for token in text.lower().split(' ') if token != '' if token not in stopwords]\n",
    "    ngrams = zip(*[token[i:] for i in range(n_gram)])\n",
    "    return [' '.join(ngram) for ngram in ngrams]"
   ]
  },
  {
   "cell_type": "code",
   "execution_count": 44,
   "id": "a182b410",
   "metadata": {},
   "outputs": [],
   "source": [
    "text = \" \".join([token for token in jude1])"
   ]
  },
  {
   "cell_type": "code",
   "execution_count": 45,
   "id": "e757da25",
   "metadata": {},
   "outputs": [
    {
     "data": {
      "text/plain": [
       "'>warning letterabbott (st jude medical inc) marcs-cms 519686 — april 12 2017sharetweetlinkedinemailprintrecipient:abbott (st jude medical inc)united statesissuing office:center for device and radiological healthunited state 10903 new hampshire avenuesilver spring md 20993 warning letter via united parcel service april 12 2017 mike rousseaupresidentabbottcardiovascular and neuromodulation15900 valley view courtsylmar california 91342-3577 dear mr rousseau: during an inspection of your firm located in sylmar caon february 7 through february 17 2017 investigator from the united state food and drug administration (fda) determined that your firm manufacture the fortify unify assura (including quadra) implantable cardioverter defibrillator and cardiac resynchronization therapy defibrillator and the merlin@home monitor under section 201(h) of the federal food drug and cosmetic act (the act) 21 usc § 321(h) these product are device because they are intended for use in the diagnosis of disease or other condition or in the cure mitigation treatment or prevention of disease or to affect the structure or function of the body this inspection revealed that these device are adulterated within the meaning of section 501(h) of the act 21 usc § 351(h) in that the method used in or the facility or control used for their manufacture packing storage or installation are not in conformity with the current good manufacturing practice requirement of the quality system (qs) regulation found at title 21 code of federal regulation (cfr) part 820 we received a response from vishnu charan vice president of operation dated march 13 2017 concerning our investigator’s observation noted on the form fda 483 (fda 483) list of inspectional observation that wa issued to your firm we address this response below in relation to each of the noted violation these violation include but are not limited to the following: 1 failure to establish and maintain procedure for implementing corrective and preventive action a required by 21 cfr 820100(a) for example: a fda reviewed 42 of your firm’s product analysis report produced between 2011 and 2014 these report showed in instance when your supplier’s analysis provided evidence that lithium cluster bridging had prematurely drained the battery your firm repeatedly concluded that the cause of premature depletion of greatbatch qhr2850 battery “could not be determined” your firm later categorized these a “unconfirmed” lithium bridge your firm’s corrective action and preventive action (capa) procedure (b)(4) revision aa state in section 20 the level of corrective action and preventive action shall be commensurate with the significance and risk of the nonconformance further section 50 state the risk evaluation of nonconformance is based on three factors: severity probability and detectability by basing your firm’s risk evaluation on “confirmed” case and not considering the potential for “unconfirmed” case to have been short your firm underestimated the occurrence of the hazardous situation this delayed initiation of capa #13-017 titled: lithium cluster short in m2850 cell until december 18 2013 and your firm continued to distribute device containing this battery until october 2016 the adequacy of your firm’s response cannot be determined at this time your firm provided a summary of and implementation date for several correction corrective action and systemic corrective action however in your firm’s response you failed to provide evidence of implementation for your firm’s correction corrective action and systemic corrective action b section 5 of both your sjm corrective and preventive action (capa) sop (b)(4) revision d and sjm corrective and preventive action wi (b)(4) revision c defines your firm’s capa process and the supporting procedure and form associated with activity performed within your firm’s capa process additionally figure 2 in your firm’s sjm corrective and preventive action wi (b)(4) revision c describes the capa risk assessment and resolution process that proceeds after a capa file is opened your firm failed to follow it capa procedure when evaluating a third party report dated august 25 2016 in that your firm released merlin@home cybersecurity risk assessment (b)(4) revision g an updated risk assessment and it corresponding corrective action merlin@home ex2000 v822 (pilot release on december 7 2016 with full release on january 9 2017) before approving the capa request for this issue capa#17012 titled: crm product cybersecurity on february 7 2017 your firm conducted a risk assessment and a corrective action outside of your capa system your firm did not confirm all required corrective and preventive action were completed including a full root cause investigation and the identification of action to correct and prevent recurrence of potential cybersecurity vulnerability a required by your capa procedure additionally your firm did not confirm that verification or validation activity for the corrective action had been completed to ensure the corrective action were effective and did not adversely affect the finished device we have reviewed your response and conclude that it is not adequate your firm provided a summary of and implementation date for several correction and corrective action however in your firm’s response you failed to consider systemic corrective action and the necessary information to include evidence of implementation for your firm’s correction corrective action and systemic corrective action c your management review and medical advisory board did not receive relevant and complete information concerning the premature battery depletion issue a required by section 53 your firm’s procedure quality management review sop (b)(4) revision r on november 11 and november 12 2014 two separate presentation were provided for management review and to your mab for review concerning premature battery depletion the presentation to your firm’s mab included rate of occurrence of premature battery depletion caused by “confirmed” lithium cluster formation the presentation did not include information on the potential for “unconfirmed” case to be short despite possessing evidence provided by your supplier regarding premature battery depletion caused by lithium bridge this resulted in significant underestimation of the probability of occurrence of the hazardous situation additionally both presentation stated there were no serious injury or death directly related to lithium cluster formation however the first related death to this issue occurred on (b)(6) (mdr#2938836-2014-13599) your firm completed it returned device analysis related to this death on august 27 2014 the analysis concluded the cause of premature battery depletion “could not be determined” despite evidence of lithium bridge provided by your supplier this death wa not disclosed in these presentation for management or mab review we have reviewed your response and conclude that it is not adequate your firm provided a summary of and implementation date for several correction and corrective action however in your firm’s response you failed to consider systemic corrective action and the necessary information to include evidence of implementation for your firm’s correction corrective action and systemic corrective action 2 failure to establish and maintain procedure to control product that doe not conform to specified requirement a required by 21 cfr 82090(a) for example: on october 11 2016 your firm initiated a recall for your firm’s fortify unify and assura implantable cardioverter defibrillator (icds) and cardiac resynchronization therapy defibrillator (crt-ds) due to premature battery depletion subsequently ten implantable cardiac defibrillator (icds) subject to this recall were shipped from your firm’s distribution center to st jude u field representative between october 14 and october 26 2016 an additional seven icds also subject to this recall and in the control of st jude u field representative were implanted into patient the adequacy of your firm’s response cannot be determined at this time your firm provided a summary of and implementation date for several correction corrective action and systemic corrective action however in your firm’s response you failed to provide evidence of implementation for your firm’s correction corrective action and systemic corrective action 3 failure to ensure that design verification shall confirm that the design output meet the design input requirement a required by 21 cfr 82030(f) for example: your firm ha a design input (b)(4) of “the remote monitoring device shall only open network port to authorized interfaces” which is documented in merlin@home ex2000 (b)(4) software system requirement specification document (b)(4) this is implemented a a design output in your firm’s merlin@home software requirement specification uploads (b)(4) this design output wa not fully verified during your firm’s design verification activity according to your firm’s testing procedure (b)(4) final configuration test procedure (b)(4) and final configuration test procedure document (b)(4) the requirement wa only partially verified by testing that the network port opened with an authorized interface your testing procedure did not require full verification to ensure the network port would not open with an unauthorized interface the adequacy of your firm’s response cannot be determined at this time your firm provided a summary of and implementation date for several correction corrective action and systemic corrective action however in your firm’s response you failed to provide evidence of implementation for your firm’s correction corrective action and systemic corrective action 4 failure to ensure that design validation shall include risk analysis where appropriate a required by 21 cfr 82030(g) for example: a your firm failed to accurately incorporate the finding of a third-party assessment you commissioned dated april 2 2014 into your firm’s updated cybersecurity risk assessment for your high voltage and peripheral device specifically: 1 your firm’s updated cybersecurity risk assessment (b)(4) cybersecurity risk assessment (b)(4) revision a april 2 2015 and merlin@home product security risk assessment (b)(4) revision b may 21 2014 failed to accurately incorporate the third party report’s finding into it security risk rating causing your post-mitigation risk estimation to be acceptable when according to the report several risk were not adequately controlled2 the same report identified the hardcoded universal unlock code a an exploitable hazard for your firm’s high voltage device your firm’s global risk management procedure sop (b)(4) section 533 of revision t released november 2 2012 and section 513 of revision x released november 8 2016 requires your firm to ass if new hazard are introduced or previously identified hazardous situation are affected by risk control measure your firm identified the hardcoded universal unlock code a a risk control measure for emergent communication however you failed to identify this risk control also a a hazard therefore you failed to properly estimate and evaluate the risk associated with the hardcoded universal lock code in the design of your high voltage device the adequacy of your firm’s response cannot be determined at this time your firm provided a summary of and implementation date for several correction corrective action and systemic corrective action however in your firm’s response you failed to provide evidence of implementation for your firm’s correction corrective action and systemic corrective action b section 51 of your firm’s global risk management procedure sop (b)(4) revision t outline your firm’s risk management policy which state that “risk management shall be integrated into all product life cycle stage in order to assure early identification and timely mitigation of risk that could impact patient safety” your firm’s returned product analysis record for (b)(4) wa completed by your firm on september 12 2011 for a device that wa explanted on july 1 2011 due to premature battery depletion this analysis included evidence of lithium ion cluster formation however your firm failed to identify lithium cluster a a hazardous situation and a potential cause of premature battery depletion through it risk management process this process is used for battery that are used in the unify fortify assura and quadra icds and crt-ds we have reviewed your response and conclude that it is not adequate in your firm’s response you failed to provide a description and evidence of implementation for correction and corrective action to include consideration of systemic corrective action you should take prompt action to correct the violation addressed in this letter failure to promptly correct these violation may result in regulatory action being initiated by the fda without further notice these action include but are not limited to seizure injunction and civil money penalty also federal agency may be advised of the issuance of warning letter about device so that they may take this information into account when considering the award of contract additionally premarket approval application for class iii device to which the quality system regulation deviation are reasonably related will not be approved until the violation have been corrected request for certificate to foreign government will not be granted until the violation related to the subject device have been corrected please notify this office in writing within fifteen business day from the date you receive this letter of the specific step you have taken to correct the noted violation a well a an explanation of how your firm plan to prevent these violation or similar violation from occurring again include documentation of the corrective action (which must address systemic problems) you your firm ha taken if your firm’s planned correction and/or corrective action will occur over time please include a timetable for implementation of those activity if correction and/or corrective action cannot be completed within 15 business day state the reason for the delay and the time within which these activity will be completed your firm’s response should be comprehensive and address all violation included in this warning letter your response should be sent to: food and drug administration center for device and radiological health office of compliance field inspection support branch white oak building 66 rm 3540 10903 new hampshire ave silver spring md 20993 refer to the unique identification number (519686) when replying if you have any question about the content of this letter please contact: lorie erikson at lorieerikson@fdahhsgov or (301)796-7511 finally you should know that this letter is not intended to be an all-inclusive list of the violation at your firm’s facility it is your firm’s responsibility to ensure compliance with applicable law and regulation administered by fda the specific violation noted in this letter and in the inspectional observation fda 483 issued at the close of the inspection may be symptomatic of serious problem in your firm’s manufacturing and quality management system your firm should investigate and determine the cause of the violation and take prompt action to correct the violation and bring the product into compliance sincerely yours'"
      ]
     },
     "execution_count": 45,
     "metadata": {},
     "output_type": "execute_result"
    }
   ],
   "source": [
    "text"
   ]
  },
  {
   "cell_type": "code",
   "execution_count": 46,
   "id": "3f7a34a8",
   "metadata": {},
   "outputs": [],
   "source": [
    "from collections import defaultdict\n",
    "unigram = defaultdict(int)\n",
    "for word in generate_ngrams(text):\n",
    "    unigram[word] += 1"
   ]
  },
  {
   "cell_type": "code",
   "execution_count": 47,
   "id": "a84b4b0a",
   "metadata": {},
   "outputs": [],
   "source": [
    "import pandas as pd\n",
    "df_unigram = pd.DataFrame(sorted(unigram.items(), key= lambda x : x[1])[::-1])"
   ]
  },
  {
   "cell_type": "code",
   "execution_count": 48,
   "id": "f4619853",
   "metadata": {},
   "outputs": [
    {
     "data": {
      "text/html": [
       "<div>\n",
       "<style scoped>\n",
       "    .dataframe tbody tr th:only-of-type {\n",
       "        vertical-align: middle;\n",
       "    }\n",
       "\n",
       "    .dataframe tbody tr th {\n",
       "        vertical-align: top;\n",
       "    }\n",
       "\n",
       "    .dataframe thead th {\n",
       "        text-align: right;\n",
       "    }\n",
       "</style>\n",
       "<table border=\"1\" class=\"dataframe\">\n",
       "  <thead>\n",
       "    <tr style=\"text-align: right;\">\n",
       "      <th></th>\n",
       "      <th>0</th>\n",
       "      <th>1</th>\n",
       "    </tr>\n",
       "  </thead>\n",
       "  <tbody>\n",
       "    <tr>\n",
       "      <th>0</th>\n",
       "      <td>action</td>\n",
       "      <td>47</td>\n",
       "    </tr>\n",
       "    <tr>\n",
       "      <th>1</th>\n",
       "      <td>corrective</td>\n",
       "      <td>40</td>\n",
       "    </tr>\n",
       "    <tr>\n",
       "      <th>2</th>\n",
       "      <td>risk</td>\n",
       "      <td>24</td>\n",
       "    </tr>\n",
       "    <tr>\n",
       "      <th>3</th>\n",
       "      <td>(b)(4)</td>\n",
       "      <td>19</td>\n",
       "    </tr>\n",
       "    <tr>\n",
       "      <th>4</th>\n",
       "      <td>response</td>\n",
       "      <td>18</td>\n",
       "    </tr>\n",
       "    <tr>\n",
       "      <th>...</th>\n",
       "      <td>...</td>\n",
       "      <td>...</td>\n",
       "    </tr>\n",
       "    <tr>\n",
       "      <th>577</th>\n",
       "      <td>519686</td>\n",
       "      <td>1</td>\n",
       "    </tr>\n",
       "    <tr>\n",
       "      <th>578</th>\n",
       "      <td>marcs-cms</td>\n",
       "      <td>1</td>\n",
       "    </tr>\n",
       "    <tr>\n",
       "      <th>579</th>\n",
       "      <td>inc)</td>\n",
       "      <td>1</td>\n",
       "    </tr>\n",
       "    <tr>\n",
       "      <th>580</th>\n",
       "      <td>letterabbott</td>\n",
       "      <td>1</td>\n",
       "    </tr>\n",
       "    <tr>\n",
       "      <th>581</th>\n",
       "      <td>&gt;warning</td>\n",
       "      <td>1</td>\n",
       "    </tr>\n",
       "  </tbody>\n",
       "</table>\n",
       "<p>582 rows × 2 columns</p>\n",
       "</div>"
      ],
      "text/plain": [
       "                0   1\n",
       "0          action  47\n",
       "1      corrective  40\n",
       "2            risk  24\n",
       "3          (b)(4)  19\n",
       "4        response  18\n",
       "..            ...  ..\n",
       "577        519686   1\n",
       "578     marcs-cms   1\n",
       "579          inc)   1\n",
       "580  letterabbott   1\n",
       "581      >warning   1\n",
       "\n",
       "[582 rows x 2 columns]"
      ]
     },
     "execution_count": 48,
     "metadata": {},
     "output_type": "execute_result"
    }
   ],
   "source": [
    "df_unigram"
   ]
  },
  {
   "cell_type": "code",
   "execution_count": 49,
   "id": "3a88aa27",
   "metadata": {},
   "outputs": [
    {
     "data": {
      "text/plain": [
       "<AxesSubplot:>"
      ]
     },
     "execution_count": 49,
     "metadata": {},
     "output_type": "execute_result"
    },
    {
     "data": {
      "image/png": "[encoded data removed]",
      "text/plain": [
       "<Figure size 432x288 with 1 Axes>"
      ]
     },
     "metadata": {
      "needs_background": "light"
     },
     "output_type": "display_data"
    }
   ],
   "source": [
    "import seaborn as sns\n",
    "\n",
    "sns.barplot(y=df_unigram[0].values[:15], x = df_unigram[1].values[:15])"
   ]
  },
  {
   "cell_type": "code",
   "execution_count": 50,
   "id": "62ed7d5f",
   "metadata": {},
   "outputs": [
    {
     "data": {
      "text/plain": [
       "<AxesSubplot:>"
      ]
     },
     "execution_count": 50,
     "metadata": {},
     "output_type": "execute_result"
    },
    {
     "data": {
      "image/png": "[encoded data removed]",
      "text/plain": [
       "<Figure size 432x288 with 1 Axes>"
      ]
     },
     "metadata": {
      "needs_background": "light"
     },
     "output_type": "display_data"
    }
   ],
   "source": [
    "### bigram\n",
    "\n",
    "bigram = defaultdict(int)\n",
    "for word in generate_ngrams(text, n_gram= 2):\n",
    "    bigram[word] += 1\n",
    "\n",
    "df_bigram = pd.DataFrame(sorted(bigram.items(), key= lambda x:x[1])[::-1])\n",
    "\n",
    "sns.barplot( y = df_bigram[0].values[:15], x = df_bigram[1].values[:15])"
   ]
  },
  {
   "cell_type": "code",
   "execution_count": 51,
   "id": "4845c88b",
   "metadata": {},
   "outputs": [
    {
     "data": {
      "text/plain": [
       "<AxesSubplot:>"
      ]
     },
     "execution_count": 51,
     "metadata": {},
     "output_type": "execute_result"
    },
    {
     "data": {
      "image/png": "[encoded data removed]",
      "text/plain": [
       "<Figure size 432x288 with 1 Axes>"
      ]
     },
     "metadata": {
      "needs_background": "light"
     },
     "output_type": "display_data"
    }
   ],
   "source": [
    "### trigram\n",
    "\n",
    "trigram = defaultdict(int)\n",
    "for word in generate_ngrams(text, n_gram = 3):\n",
    "    trigram[word] += 1\n",
    "\n",
    "df_trigram = pd.DataFrame(sorted(trigram.items(), key= lambda x: x[1])[::-1])\n",
    "\n",
    "sns.barplot( y = df_trigram[0].values[:15], x = df_trigram[1].values[:15])"
   ]
  },
  {
   "cell_type": "code",
   "execution_count": 52,
   "id": "4c1f06ac",
   "metadata": {},
   "outputs": [],
   "source": [
    "def find_all(a_str, sub):\n",
    "    start = 0\n",
    "    while True:\n",
    "        start = a_str.find(sub, start)\n",
    "        if start == -1: return\n",
    "        yield start\n",
    "        start += len(sub)\n",
    "\n",
    "def find_specific(word, text_list):\n",
    "    specific = list()\n",
    "    for i, text in enumerate(text_list):\n",
    "        if word.lower() in text:\n",
    "            specific_index = list(find_all(text, word.lower()))\n",
    "            for a in specific_index:\n",
    "                print(i, a)\n",
    "                print(text_list[i][(a-15):])\n",
    "            specific.append(text_list[i][(a-15):])\n",
    "    \n",
    "    return specific"
   ]
  },
  {
   "cell_type": "code",
   "execution_count": 53,
   "id": "38dc6478",
   "metadata": {},
   "outputs": [
    {
     "name": "stdout",
     "output_type": "stream",
     "text": [
      "6 226\n",
      "ly drained the battery your firm repeatedly concluded that the cause of premature depletion of greatbatch qhr2850 battery “could not be determined” your firm later categorized these a “unconfirmed” lithium bridge your firm’s corrective action and preventive action (capa) procedure (b)(4) revision aa state in section 20 the level of corrective action and preventive action shall be commensurate with the significance and risk of the nonconformance further section 50 state the risk evaluation of nonconformance is based on three factors: severity probability and detectability by basing your firm’s risk evaluation on “confirmed” case and not considering the potential for “unconfirmed” case to have been short your firm underestimated the occurrence of the hazardous situation this delayed initiation of capa #13-017 titled: lithium cluster short in m2850 cell until december 18 2013 and your firm continued to distribute device containing this battery until october 2016\n",
      "6 325\n",
      "tbatch qhr2850 battery “could not be determined” your firm later categorized these a “unconfirmed” lithium bridge your firm’s corrective action and preventive action (capa) procedure (b)(4) revision aa state in section 20 the level of corrective action and preventive action shall be commensurate with the significance and risk of the nonconformance further section 50 state the risk evaluation of nonconformance is based on three factors: severity probability and detectability by basing your firm’s risk evaluation on “confirmed” case and not considering the potential for “unconfirmed” case to have been short your firm underestimated the occurrence of the hazardous situation this delayed initiation of capa #13-017 titled: lithium cluster short in m2850 cell until december 18 2013 and your firm continued to distribute device containing this battery until october 2016\n",
      "6 1158\n",
      "ontaining this battery until october 2016\n",
      "10 127\n",
      " the premature battery depletion issue a required by section 53 your firm’s procedure quality management review sop (b)(4) revision r on november 11 and november 12 2014 two separate presentation were provided for management review and to your mab for review concerning premature battery depletion the presentation to your firm’s mab included rate of occurrence of premature battery depletion caused by “confirmed” lithium cluster formation the presentation did not include information on the potential for “unconfirmed” case to be short despite possessing evidence provided by your supplier regarding premature battery depletion caused by lithium bridge this resulted in significant underestimation of the probability of occurrence of the hazardous situation additionally both presentation stated there were no serious injury or death directly related to lithium cluster formation however the first related death to this issue occurred on (b)(6) (mdr#2938836-2014-13599) your firm completed it returned device analysis related to this death on august 27 2014 the analysis concluded the cause of premature battery depletion “could not be determined” despite evidence of lithium bridge provided by your supplier this death wa not disclosed in these presentation for management or mab review\n",
      "10 392\n",
      "ning premature battery depletion the presentation to your firm’s mab included rate of occurrence of premature battery depletion caused by “confirmed” lithium cluster formation the presentation did not include information on the potential for “unconfirmed” case to be short despite possessing evidence provided by your supplier regarding premature battery depletion caused by lithium bridge this resulted in significant underestimation of the probability of occurrence of the hazardous situation additionally both presentation stated there were no serious injury or death directly related to lithium cluster formation however the first related death to this issue occurred on (b)(6) (mdr#2938836-2014-13599) your firm completed it returned device analysis related to this death on august 27 2014 the analysis concluded the cause of premature battery depletion “could not be determined” despite evidence of lithium bridge provided by your supplier this death wa not disclosed in these presentation for management or mab review\n",
      "10 487\n",
      "e of premature battery depletion caused by “confirmed” lithium cluster formation the presentation did not include information on the potential for “unconfirmed” case to be short despite possessing evidence provided by your supplier regarding premature battery depletion caused by lithium bridge this resulted in significant underestimation of the probability of occurrence of the hazardous situation additionally both presentation stated there were no serious injury or death directly related to lithium cluster formation however the first related death to this issue occurred on (b)(6) (mdr#2938836-2014-13599) your firm completed it returned device analysis related to this death on august 27 2014 the analysis concluded the cause of premature battery depletion “could not be determined” despite evidence of lithium bridge provided by your supplier this death wa not disclosed in these presentation for management or mab review\n",
      "10 724\n",
      "ding premature battery depletion caused by lithium bridge this resulted in significant underestimation of the probability of occurrence of the hazardous situation additionally both presentation stated there were no serious injury or death directly related to lithium cluster formation however the first related death to this issue occurred on (b)(6) (mdr#2938836-2014-13599) your firm completed it returned device analysis related to this death on august 27 2014 the analysis concluded the cause of premature battery depletion “could not be determined” despite evidence of lithium bridge provided by your supplier this death wa not disclosed in these presentation for management or mab review\n",
      "10 1218\n",
      "e of premature battery depletion “could not be determined” despite evidence of lithium bridge provided by your supplier this death wa not disclosed in these presentation for management or mab review\n",
      "12 367\n",
      "e to premature battery depletion subsequently ten implantable cardiac defibrillator (icds) subject to this recall were shipped from your firm’s distribution center to st jude u field representative between october 14 and october 26 2016 an additional seven icds also subject to this recall and in the control of st jude u field representative were implanted into patient\n",
      "21 484\n",
      "e to premature battery depletion this analysis included evidence of lithium ion cluster formation however your firm failed to identify lithium cluster a a hazardous situation and a potential cause of premature battery depletion through it risk management process this process is used for battery that are used in the unify fortify assura and quadra icds and crt-ds\n",
      "21 679\n",
      "e of premature battery depletion through it risk management process this process is used for battery that are used in the unify fortify assura and quadra icds and crt-ds\n",
      "21 757\n",
      "ss is used for battery that are used in the unify fortify assura and quadra icds and crt-ds\n"
     ]
    }
   ],
   "source": [
    "battery = find_specific(word='battery', text_list=jude1)"
   ]
  },
  {
   "cell_type": "code",
   "execution_count": 54,
   "id": "fae95ec7",
   "metadata": {},
   "outputs": [
    {
     "data": {
      "text/plain": [
       "<AxesSubplot:>"
      ]
     },
     "execution_count": 54,
     "metadata": {},
     "output_type": "execute_result"
    },
    {
     "data": {
      "image/png": "[encoded data removed]",
      "text/plain": [
       "<Figure size 432x288 with 1 Axes>"
      ]
     },
     "metadata": {
      "needs_background": "light"
     },
     "output_type": "display_data"
    }
   ],
   "source": [
    "### trigram\n",
    "\n",
    "trigram = defaultdict(int)\n",
    "for word in generate_ngrams(battery[0], n_gram = 3):\n",
    "    trigram[word] += 1\n",
    "\n",
    "df_trigram = pd.DataFrame(sorted(trigram.items(), key= lambda x: x[1])[::-1])\n",
    "\n",
    "sns.barplot( y = df_trigram[0].values[:15], x = df_trigram[1].values[:15])"
   ]
  },
  {
   "cell_type": "code",
   "execution_count": 55,
   "id": "426e553f",
   "metadata": {},
   "outputs": [
    {
     "name": "stdout",
     "output_type": "stream",
     "text": [
      "6 436\n",
      "ge your firm’s corrective action and preventive action (capa) procedure (b)(4) revision aa state in section 20 the level of corrective action and preventive action shall be commensurate with the significance and risk of the nonconformance further section 50 state the risk evaluation of nonconformance is based on three factors: severity probability and detectability by basing your firm’s risk evaluation on “confirmed” case and not considering the potential for “unconfirmed” case to have been short your firm underestimated the occurrence of the hazardous situation this delayed initiation of capa #13-017 titled: lithium cluster short in m2850 cell until december 18 2013 and your firm continued to distribute device containing this battery until october 2016\n",
      "6 545\n",
      "0 the level of corrective action and preventive action shall be commensurate with the significance and risk of the nonconformance further section 50 state the risk evaluation of nonconformance is based on three factors: severity probability and detectability by basing your firm’s risk evaluation on “confirmed” case and not considering the potential for “unconfirmed” case to have been short your firm underestimated the occurrence of the hazardous situation this delayed initiation of capa #13-017 titled: lithium cluster short in m2850 cell until december 18 2013 and your firm continued to distribute device containing this battery until october 2016\n",
      "7 150\n",
      "ral correction corrective action and systemic corrective action however in your firm’s response you failed to provide evidence of implementation for your firm’s correction corrective action and systemic corrective action\n",
      "7 181\n",
      "n and systemic corrective action however in your firm’s response you failed to provide evidence of implementation for your firm’s correction corrective action and systemic corrective action\n",
      "7 307\n",
      "m’s correction corrective action and systemic corrective action\n",
      "7 338\n",
      "n and systemic corrective action\n",
      "8 724\n",
      " corresponding corrective action merlin@home ex2000 v822 (pilot release on december 7 2016 with full release on january 9 2017) before approving the capa request for this issue capa#17012 titled: crm product cybersecurity on february 7 2017 your firm conducted a risk assessment and a corrective action outside of your capa system your firm did not confirm all required corrective and preventive action were completed including a full root cause investigation and the identification of action to correct and prevent recurrence of potential cybersecurity vulnerability a required by your capa procedure additionally your firm did not confirm that verification or validation activity for the corrective action had been completed to ensure the corrective action were effective and did not adversely affect the finished device\n",
      "8 994\n",
      "sessment and a corrective action outside of your capa system your firm did not confirm all required corrective and preventive action were completed including a full root cause investigation and the identification of action to correct and prevent recurrence of potential cybersecurity vulnerability a required by your capa procedure additionally your firm did not confirm that verification or validation activity for the corrective action had been completed to ensure the corrective action were effective and did not adversely affect the finished device\n",
      "8 1399\n",
      "tivity for the corrective action had been completed to ensure the corrective action were effective and did not adversely affect the finished device\n",
      "8 1450\n",
      " to ensure the corrective action were effective and did not adversely affect the finished device\n",
      "9 151\n",
      "correction and corrective action however in your firm’s response you failed to consider systemic corrective action and the necessary information to include evidence of implementation for your firm’s correction corrective action and systemic corrective action\n",
      "9 233\n",
      "sider systemic corrective action and the necessary information to include evidence of implementation for your firm’s correction corrective action and systemic corrective action\n",
      "9 346\n",
      "m’s correction corrective action and systemic corrective action\n",
      "9 377\n",
      "n and systemic corrective action\n",
      "11 151\n",
      "correction and corrective action however in your firm’s response you failed to consider systemic corrective action and the necessary information to include evidence of implementation for your firm’s correction corrective action and systemic corrective action\n",
      "11 233\n",
      "sider systemic corrective action and the necessary information to include evidence of implementation for your firm’s correction corrective action and systemic corrective action\n",
      "11 346\n",
      "m’s correction corrective action and systemic corrective action\n",
      "11 377\n",
      "n and systemic corrective action\n",
      "13 150\n",
      "ral correction corrective action and systemic corrective action however in your firm’s response you failed to provide evidence of implementation for your firm’s correction corrective action and systemic corrective action\n",
      "13 181\n",
      "n and systemic corrective action however in your firm’s response you failed to provide evidence of implementation for your firm’s correction corrective action and systemic corrective action\n",
      "13 307\n",
      "m’s correction corrective action and systemic corrective action\n",
      "13 338\n",
      "n and systemic corrective action\n",
      "16 150\n",
      "ral correction corrective action and systemic corrective action however in your firm’s response you failed to provide evidence of implementation for your firm’s correction corrective action and systemic corrective action\n",
      "16 181\n",
      "n and systemic corrective action however in your firm’s response you failed to provide evidence of implementation for your firm’s correction corrective action and systemic corrective action\n",
      "16 307\n",
      "m’s correction corrective action and systemic corrective action\n",
      "16 338\n",
      "n and systemic corrective action\n",
      "20 150\n",
      "ral correction corrective action and systemic corrective action however in your firm’s response you failed to provide evidence of implementation for your firm’s correction corrective action and systemic corrective action\n",
      "20 181\n",
      "n and systemic corrective action however in your firm’s response you failed to provide evidence of implementation for your firm’s correction corrective action and systemic corrective action\n",
      "20 307\n",
      "m’s correction corrective action and systemic corrective action\n",
      "20 338\n",
      "n and systemic corrective action\n",
      "22 178\n",
      "correction and corrective action to include consideration of systemic corrective action you should take prompt action to correct the violation addressed in this letter failure to promptly correct these violation may result in regulatory action being initiated by the fda without further notice these action include but are not limited to seizure injunction and civil money penalty also federal agency may be advised of the issuance of warning letter about device so that they may take this information into account when considering the award of contract additionally premarket approval application for class iii device to which the quality system regulation deviation are reasonably related will not be approved until the violation have been corrected request for certificate to foreign government will not be granted until the violation related to the subject device have been corrected please notify this office in writing within fifteen business day from the date you receive this letter of the specific step you have taken to correct the noted violation a well a an explanation of how your firm plan to prevent these violation or similar violation from occurring again include documentation of the corrective action (which must address systemic problems) you your firm ha taken if your firm’s planned correction and/or corrective action will occur over time please include a timetable for implementation of those activity if correction and/or corrective action cannot be completed within 15 business day state the reason for the delay and the time within which these activity will be completed your firm’s response should be comprehensive and address all violation included in this warning letter\n",
      "22 233\n",
      "on of systemic corrective action you should take prompt action to correct the violation addressed in this letter failure to promptly correct these violation may result in regulatory action being initiated by the fda without further notice these action include but are not limited to seizure injunction and civil money penalty also federal agency may be advised of the issuance of warning letter about device so that they may take this information into account when considering the award of contract additionally premarket approval application for class iii device to which the quality system regulation deviation are reasonably related will not be approved until the violation have been corrected request for certificate to foreign government will not be granted until the violation related to the subject device have been corrected please notify this office in writing within fifteen business day from the date you receive this letter of the specific step you have taken to correct the noted violation a well a an explanation of how your firm plan to prevent these violation or similar violation from occurring again include documentation of the corrective action (which must address systemic problems) you your firm ha taken if your firm’s planned correction and/or corrective action will occur over time please include a timetable for implementation of those activity if correction and/or corrective action cannot be completed within 15 business day state the reason for the delay and the time within which these activity will be completed your firm’s response should be comprehensive and address all violation included in this warning letter\n",
      "22 1365\n",
      "ntation of the corrective action (which must address systemic problems) you your firm ha taken if your firm’s planned correction and/or corrective action will occur over time please include a timetable for implementation of those activity if correction and/or corrective action cannot be completed within 15 business day state the reason for the delay and the time within which these activity will be completed your firm’s response should be comprehensive and address all violation included in this warning letter\n",
      "22 1486\n",
      "rection and/or corrective action will occur over time please include a timetable for implementation of those activity if correction and/or corrective action cannot be completed within 15 business day state the reason for the delay and the time within which these activity will be completed your firm’s response should be comprehensive and address all violation included in this warning letter\n",
      "22 1610\n",
      "rection and/or corrective action cannot be completed within 15 business day state the reason for the delay and the time within which these activity will be completed your firm’s response should be comprehensive and address all violation included in this warning letter\n"
     ]
    }
   ],
   "source": [
    "corrective_action = find_specific(word= 'corrective action', text_list=jude1)"
   ]
  },
  {
   "cell_type": "markdown",
   "id": "2d0d12a9",
   "metadata": {},
   "source": [
    "# Topic Modeling(not useful)"
   ]
  },
  {
   "cell_type": "code",
   "execution_count": 56,
   "id": "d3858feb",
   "metadata": {},
   "outputs": [],
   "source": [
    "# import tools\n",
    "from sklearn.feature_extraction.text import TfidfVectorizer\n",
    "from sklearn.decomposition import TruncatedSVD\n",
    "\n",
    "# TfidfVectorizer\n",
    "\n",
    "def getTopics(text, topicsNum):\n",
    "    topic = ''\n",
    "    vectorizer = TfidfVectorizer(stop_words= 'english',\n",
    "                                max_features = 1000,\n",
    "                                max_df = 0.8,\n",
    "                                min_df = 0.05)\n",
    "    #temp_list = list()\n",
    "    #temp_list.append(text)\n",
    "    X = vectorizer.fit_transform(text)\n",
    "\n",
    "    print(X.shape)\n",
    "    svd_model = TruncatedSVD(n_components=topicsNum, algorithm='randomized', n_iter= 100, random_state= 122)\n",
    "    svd_model.fit(X)\n",
    "\n",
    "    terms = vectorizer.get_feature_names()\n",
    "    print('components output shape '+ str(svd_model.components_.shape))\n",
    "    print(svd_model.components_)\n",
    "\n",
    "    for i, comp in enumerate(svd_model.components_):\n",
    "        terms_comp = zip(terms, comp)\n",
    "        sorted_terms = sorted(terms_comp, key= lambda x:x[1], reverse= True)[:10]\n",
    "        string = \"Topic \"+str(i+1) +\": \"\n",
    "        for t in sorted_terms:\n",
    "            string = string + t[0] + ' '\n",
    "            topic = topic + t[0] + ' '\n",
    "        print(string)\n",
    "\n",
    "    print(topic)"
   ]
  },
  {
   "cell_type": "code",
   "execution_count": 57,
   "id": "857250ff",
   "metadata": {},
   "outputs": [
    {
     "name": "stdout",
     "output_type": "stream",
     "text": [
      "(4, 49)\n",
      "components output shape (4, 49)\n",
      "[[ 9.54487934e-02  3.92302927e-01  9.54487934e-02  9.54487934e-02\n",
      "   5.17467486e-02  3.94523599e-02  9.54487934e-02  9.54487934e-02\n",
      "   9.54487934e-02  5.17467486e-02  3.94523599e-02  9.54487934e-02\n",
      "   1.06357619e-01  3.94523599e-02  3.94523599e-02  3.94523599e-02\n",
      "   9.54487934e-02  5.17467486e-02  3.94523599e-02  1.90897587e-01\n",
      "   9.54487934e-02  5.17467486e-02  1.91303581e-01  9.54487934e-02\n",
      "   9.54487934e-02  1.90897587e-01  3.94523599e-02  3.94523599e-02\n",
      "   3.94523599e-02  4.67555852e-01  4.02137726e-01  9.54487934e-02\n",
      "   1.06357619e-01  3.94523599e-02  3.94523599e-02  5.17467486e-02\n",
      "   1.90897587e-01  1.90897587e-01  3.94523599e-02  9.54487934e-02\n",
      "   9.54487934e-02  5.17467486e-02  1.90897587e-01  1.90897587e-01\n",
      "   9.54487934e-02  3.94523599e-02  5.17467486e-02  1.03493497e-01\n",
      "   3.94523599e-02]\n",
      " [ 1.87830182e-16 -1.90769536e-01  2.22546735e-17  1.46810389e-16\n",
      "   2.05939575e-01  1.57010874e-01  1.46810389e-16  1.46810389e-16\n",
      "   1.46810389e-16  2.05939575e-01  1.57010874e-01  1.46810389e-16\n",
      "   1.23789177e-01  1.57010874e-01  1.57010874e-01  1.57010874e-01\n",
      "   1.46810389e-16  2.05939575e-01  1.57010874e-01  2.93620778e-16\n",
      "   1.46810389e-16  2.05939575e-01  1.62365127e-01  1.46810389e-16\n",
      "   1.46810389e-16  2.93620778e-16  1.57010874e-01  1.57010874e-01\n",
      "   1.57010874e-01 -1.90769536e-01 -2.41966966e-01  1.46810389e-16\n",
      "   1.23789177e-01  1.57010874e-01  1.57010874e-01  2.05939575e-01\n",
      "   2.93620778e-16  2.93620778e-16  1.57010874e-01  1.46810389e-16\n",
      "   1.46810389e-16  2.05939575e-01  2.93620778e-16  2.93620778e-16\n",
      "   1.46810389e-16  1.57010874e-01  2.05939575e-01  4.11879151e-01\n",
      "   1.57010874e-01]\n",
      " [-2.12715918e-16  3.14774721e-17 -2.51494649e-16 -2.06937792e-16\n",
      "  -1.92933824e-01  1.92933824e-01 -2.06937792e-16 -2.06937792e-16\n",
      "  -2.06937792e-16 -1.92933824e-01  1.92933824e-01 -2.06937792e-16\n",
      "   1.52111243e-01  1.92933824e-01  1.92933824e-01  1.92933824e-01\n",
      "  -2.06937792e-16 -1.92933824e-01  1.92933824e-01 -4.13875584e-16\n",
      "  -2.06937792e-16 -1.92933824e-01 -1.52111243e-01 -2.06937792e-16\n",
      "  -2.06937792e-16 -4.13875584e-16  1.92933824e-01  1.92933824e-01\n",
      "   1.92933824e-01 -2.29166840e-16  1.39897929e-16 -2.06937792e-16\n",
      "   1.52111243e-01  1.92933824e-01  1.92933824e-01 -1.92933824e-01\n",
      "  -4.13875584e-16 -4.13875584e-16  1.92933824e-01 -2.06937792e-16\n",
      "  -2.06937792e-16 -1.92933824e-01 -4.13875584e-16 -4.13875584e-16\n",
      "  -2.06937792e-16  1.92933824e-01 -1.92933824e-01 -3.85867648e-01\n",
      "   1.92933824e-01]\n",
      " [ 1.16573965e-01 -2.95312732e-01  1.16573965e-01  1.16573965e-01\n",
      "  -6.31995801e-02 -4.81841401e-02  1.16573965e-01  1.16573965e-01\n",
      "   1.16573965e-01 -6.31995801e-02 -4.81841401e-02  1.16573965e-01\n",
      "   5.39193236e-02 -4.81841401e-02 -4.81841401e-02 -4.81841401e-02\n",
      "   1.16573965e-01 -6.31995801e-02 -4.81841401e-02  2.33147930e-01\n",
      "   1.16573965e-01 -6.31995801e-02  1.33989231e-01  1.16573965e-01\n",
      "   1.16573965e-01  2.33147930e-01 -4.81841401e-02 -4.81841401e-02\n",
      "  -4.81841401e-02 -2.03404479e-01 -4.91140721e-01  1.16573965e-01\n",
      "   5.39193236e-02 -4.81841401e-02 -4.81841401e-02 -6.31995801e-02\n",
      "   2.33147930e-01  2.33147930e-01 -4.81841401e-02  1.16573965e-01\n",
      "   1.16573965e-01 -6.31995801e-02  2.33147930e-01  2.33147930e-01\n",
      "   1.16573965e-01 -4.81841401e-02 -6.31995801e-02 -1.26399160e-01\n",
      "  -4.81841401e-02]]\n",
      "Topic 1: october ontaining 2016 icds field jude recall representative st subject \n",
      "Topic 2: used assura crt ds fortify quadra ss unify icds bridge \n",
      "Topic 3: bridge death despite determined disclosed evidence lithium mab management presentation \n",
      "Topic 4: field jude recall representative st subject icds 14 additional 26 \n",
      "october ontaining 2016 icds field jude recall representative st subject used assura crt ds fortify quadra ss unify icds bridge bridge death despite determined disclosed evidence lithium mab management presentation field jude recall representative st subject icds 14 additional 26 \n"
     ]
    }
   ],
   "source": [
    "getTopics(battery,10)"
   ]
  },
  {
   "cell_type": "markdown",
   "id": "505c49f8",
   "metadata": {},
   "source": [
    "# Summary"
   ]
  },
  {
   "cell_type": "code",
   "execution_count": null,
   "id": "0a981885",
   "metadata": {},
   "outputs": [],
   "source": [
    "import spacy\n",
    "from spacy.lang.en.stop_words import STOP_WORDS\n",
    "from string import punctuation\n",
    "import string\n",
    "from spacy.lang.en import English\n",
    "#from heapq import nlargest\n",
    "punctuations = string.punctuation\n",
    "from spacy.language import Language\n",
    "\n",
    "nlp = English()\n",
    "nlp.add_pipe('sentencizer') # updated\n",
    "parser = English()"
   ]
  },
  {
   "cell_type": "code",
   "execution_count": 1,
   "id": "b2b7453c",
   "metadata": {},
   "outputs": [],
   "source": [
    "def pre_process(document):\n",
    "    clean_tokens = [ token.lemma_.lower().strip() for token in document ]\n",
    "    clean_tokens = [ token for token in clean_tokens if token not in STOP_WORDS and token not in punctuations ]\n",
    "    tokens = [token.text for token in document]\n",
    "    lower_case_tokens = list(map(str.lower, tokens))\n",
    "    \n",
    "    return lower_case_tokens"
   ]
  },
  {
   "cell_type": "code",
   "execution_count": 2,
   "id": "01b2f130",
   "metadata": {},
   "outputs": [],
   "source": [
    "def generate_numbers_vector(tokens):\n",
    "    frequency = [tokens.count(token) for token in tokens]\n",
    "    token_dict = dict(list(zip(tokens,frequency)))\n",
    "    maximum_frequency=sorted(token_dict.values())[-1]\n",
    "    normalised_dict = {token_key:token_dict[token_key]/maximum_frequency for token_key in token_dict.keys()}\n",
    "    return normalised_dict"
   ]
  },
  {
   "cell_type": "code",
   "execution_count": 3,
   "id": "48d92455",
   "metadata": {},
   "outputs": [],
   "source": [
    "def sentences_importance(text, normalised_dict):\n",
    "    importance ={}\n",
    "    for sentence in nlp(text).sents:\n",
    "        for token in sentence:\n",
    "            target_token = token.text.lower()\n",
    "            if target_token in normalised_dict.keys():\n",
    "                if sentence in importance.keys():\n",
    "                    importance[sentence]+=normalised_dict[target_token]\n",
    "                else:\n",
    "                    importance[sentence]=normalised_dict[target_token]\n",
    "    return importance"
   ]
  },
  {
   "cell_type": "code",
   "execution_count": 4,
   "id": "9ee2c564",
   "metadata": {},
   "outputs": [],
   "source": [
    "def generate_summary(rank, text):\n",
    "    target_document = parser(text)\n",
    "    importance = sentences_importance(text, generate_numbers_vector(pre_process(target_document)))\n",
    "    summary = nlargest(rank, importance, key=importance.get)\n",
    "    return summary"
   ]
  },
  {
   "cell_type": "code",
   "execution_count": 5,
   "id": "c4cb9e31",
   "metadata": {},
   "outputs": [
    {
     "ename": "NameError",
     "evalue": "name 'corrective_action' is not defined",
     "output_type": "error",
     "traceback": [
      "\u001b[0;31m---------------------------------------------------------------------------\u001b[0m",
      "\u001b[0;31mNameError\u001b[0m                                 Traceback (most recent call last)",
      "\u001b[0;32m/var/folders/8k/rhj_zrls501d41qvnkrm5j2r0000gn/T/ipykernel_18281/543370693.py\u001b[0m in \u001b[0;36m<module>\u001b[0;34m\u001b[0m\n\u001b[1;32m      1\u001b[0m \u001b[0mnum\u001b[0m \u001b[0;34m=\u001b[0m \u001b[0;36m3\u001b[0m\u001b[0;34m\u001b[0m\u001b[0;34m\u001b[0m\u001b[0m\n\u001b[0;32m----> 2\u001b[0;31m \u001b[0;32mfor\u001b[0m \u001b[0mi\u001b[0m\u001b[0;34m,\u001b[0m \u001b[0mtext\u001b[0m \u001b[0;32min\u001b[0m \u001b[0menumerate\u001b[0m\u001b[0;34m(\u001b[0m\u001b[0mcorrective_action\u001b[0m\u001b[0;34m)\u001b[0m\u001b[0;34m:\u001b[0m\u001b[0;34m\u001b[0m\u001b[0;34m\u001b[0m\u001b[0m\n\u001b[0m\u001b[1;32m      3\u001b[0m     \u001b[0mprint\u001b[0m\u001b[0;34m(\u001b[0m\u001b[0mgenerate_summary\u001b[0m\u001b[0;34m(\u001b[0m\u001b[0mnum\u001b[0m\u001b[0;34m,\u001b[0m \u001b[0mtext\u001b[0m\u001b[0;34m)\u001b[0m\u001b[0;34m)\u001b[0m\u001b[0;34m\u001b[0m\u001b[0;34m\u001b[0m\u001b[0m\n",
      "\u001b[0;31mNameError\u001b[0m: name 'corrective_action' is not defined"
     ]
    }
   ],
   "source": [
    "num = 3\n",
    "for i, text in enumerate(corrective_action):\n",
    "    print(generate_summary(num, text))"
   ]
  },
  {
   "cell_type": "code",
   "execution_count": 557,
   "id": "36bc6267",
   "metadata": {},
   "outputs": [
    {
     "name": "stdout",
     "output_type": "stream",
     "text": [
      "1.      Failure to establish and maintain procedures for implementing corrective and preventive actions, as required by 21 CFR 820\n",
      "2.      Failure to establish and maintain procedures to control product that does not conform to specified requirements, as required by 21 CFR 820\n",
      "3.      Failure to ensure that design verification shall confirm that the design output meets the design input requirements, as required by 21 CFR 820\n",
      "4.      Failure to ensure that design validation shall include risk analysis, where appropriate, as required by 21 CFR 820\n",
      "1.      Your firm’s updated Cybersecurity Risk Assessments, (b)(4) Cybersecurity Risk Assessment, (b)(4), , Revision A, April 2, 2015 and Merlin@home Product Security Risk Assessment, (b)(4), Revision B, May 21, 2014 failed to accurately incorporate the third party report’s findings into its security risk ratings, causing your post-mitigation risk estimations to be acceptable, when, according to the report, several risks were not adequately controlled\n"
     ]
    }
   ],
   "source": []
  },
  {
   "cell_type": "code",
   "execution_count": 623,
   "id": "7ee70660",
   "metadata": {},
   "outputs": [],
   "source": [
    "def get_point_warning(text_list):\n",
    "    a = 0\n",
    "    for i, text in enumerate(text_list):\n",
    "        if text[0].isnumeric() and (int(text[0]) > a):\n",
    "            print(text[:(text.find(',',2))])\n",
    "            a += 1"
   ]
  },
  {
   "cell_type": "markdown",
   "id": "2fffb07f",
   "metadata": {},
   "source": [
    "### Violation summary in Abbott (St. Jude) warning letters"
   ]
  },
  {
   "cell_type": "code",
   "execution_count": 624,
   "id": "a8e94835",
   "metadata": {},
   "outputs": [
    {
     "name": "stdout",
     "output_type": "stream",
     "text": [
      "1.      Failure to establish and maintain procedures for implementing corrective and preventive actions, as required by 21 CFR 820\n",
      "2.      Failure to establish and maintain procedures to control product that does not conform to specified requirements, as required by 21 CFR 820\n",
      "3.      Failure to ensure that design verification shall confirm that the design output meets the design input requirements, as required by 21 CFR 820\n",
      "4.      Failure to ensure that design validation shall include risk analysis, where appropriate, as required by 21 CFR 820\n"
     ]
    }
   ],
   "source": [
    "get_point_warning(jude1)"
   ]
  },
  {
   "cell_type": "markdown",
   "id": "28dd9be8",
   "metadata": {},
   "source": [
    "## Same procedure can be applied for all the competitors data"
   ]
  },
  {
   "cell_type": "code",
   "execution_count": 585,
   "id": "4beebab1",
   "metadata": {},
   "outputs": [
    {
     "data": {
      "text/plain": [
       "['>WARNING LETTERMedtronic Puerto Rico Operations Co.                                    MARCS-CMS 562437 —           August 23, 2018ShareTweetLinkedinEmailPrintRecipient:Recipient NameOmar IshrakMedtronic Puerto Rico Operations Co.710 Medtronic Parkway NEMinneapolis, MN 55432United StatesIssuing Office:Florida District OfficeUnited States      Office of Medical Device and Radiological Health Operations (OMDRHO)Division 2 Central555 Winderley Pl # 200Maitland, FL 32751Telephone: (407) 475-4700  WARNING LETTER CMS # 562437                                                                                                            UNITED PARCEL SERVICE w/ DELIVERY CONFIRMATION',\n",
       " 'August 23, 2018',\n",
       " 'Omar IshrakChairman & CEOMedtronic Inc.710 Medtronic Parkway NEMinneapolis, MN 55432',\n",
       " 'Dear Mr. Ishrak:',\n",
       " 'During an inspection of Medtronic Puerto Rico Operations Company (MPROC), located at Ceiba Norte Industrial Park, 50 Road 31, Km 24.4, Juncos, Puerto Rico, on April 23 through May 15, 2018, investigators from the United States Food and Drug Administration (FDA) determined that Medtronic MPROC Juncos manufactures implantable pacemakers, implantable cardioverter defibrillators, cardiac resynchronization devices, and other related products. Under section 201(h) of the Federal Food, Drug, and Cosmetic Act (the Act), 21 U.S.C. § 321(h), these products are devices because they are intended for use in the diagnosis of disease or other conditions or in the cure, mitigation, treatment, or prevention of disease, or to affect the structure or any function of the body.',\n",
       " 'This inspection revealed that these devices are adulterated within the meaning of section 501(h) of the Act, 21 U.S.C. § 351(h), in that the methods used in, or the facilities or controls used for, their manufacture, packing, storage, or installation are not in conformity with the current good manufacturing practice requirements of the Quality System regulation found at Title 21, Code of Federal Regulations (CFR), Part 820. You may find the Act and FDA’s regulations through links in FDA’s home page at www.fda.gov. We received your firm’s responses dated June 6 and July 13, 2018, concerning our investigators’ observations noted on the Form FDA 483 (FDA 483), Inspectional Observations, issued to your firm on May 15, 2018. We address these responses below in relation to violations observed during the inspection, which include: 1.    Failure to validate a process whose results cannot be fully verified by subsequent inspection and test according to established procedures, which is required by 21 CFR 820.75(a). Specifically, (b)(4) processes (b)(4) were not validated on Blackwell implantable cardiac defibrillators (ICDs). These (b)(4) processes (b)(4) in ICDs that failed due to high voltage arcing. This led to your firm’s recall Z-0582/9-2018.  We reviewed your firm’s responses to the FDA 483 and acknowledge your commitment to: (a) (b)(4) process steps (b)(4), (b) update supplemental material for process validation to clarify that each (b)(4) must be assessed and challenged during process validation, (c) update the change control process to incorporate instructions on how to assess risk or unintended consequence of (b)(4), (d) assess (b)(4) processes for ICDs to determine if they were properly validated and have adequate process controls, and (e) perform an assessment of process validations for Blackwell ICDs non-fully verifiable processes to evaluate if applicable product specifications were challenged per process validation and design transfer requirements. Your responses appear to be adequate; however, some of your firm’s actions are still in progress, and a follow-up inspection by FDA will be necessary to verify compliance. 2.   Failure to document (b)(4) activities in the device history record (DHR) as required by 21 CFR 820.90(b)(2). Specifically, (b)(4) on implantable cardiac defibrillators (ICDs) was not documented in device history records. We reviewed your firm’s responses to the FDA 483 and acknowledge your commitment to: (a) (b)(4) process, (b) update product identification and traceability procedures to clarity that (b)(4) must be documented, (c) update your training of new hires and manufacturing personnel, (d) assess manufacturing areas to identify whether similar conduct is occurring elsewhere, and (e) establish more robust equipment and/or procedure controls on ICD equipment used in manufacturing to help prevent the occurrence of undocumented (b)(4). Your responses appear to be adequate; however, some of your firm’s actions are still in progress, and a follow-up inspection by FDA will be necessary to verify compliance. Your firm should take prompt action to correct the violations cited in this letter. Failure to promptly correct these violations may result in regulatory action being initiated by the FDA without further notice. These actions include, but are not limited to, seizure, injunction, and civil money penalties.  Also, federal agencies may be advised of the issuance of Warning Letters about devices so that they may take this information into account when considering the award of contracts. Additionally, premarket approval applications for Class III devices to which the Quality System regulation violations are reasonably related will not be approved until the violations have been corrected.  Requests for Certificates to Foreign Governments will not be granted until the violations related to the subject devices have been corrected.',\n",
       " 'Please notify this office in writing within fifteen (15) business days from the date you receive this letter of the specific steps your firm has taken to correct the noted violations, as well as an explanation of how your firm plans to prevent these violations, or similar violations, from occurring again.  Include documentation of the corrections and/or corrective actions (which must address systemic problems) that your firm has taken.  If your firm’s planned corrections and/or corrective actions will occur over time, please include a timetable for implementation of those activities.  If corrections and/or corrective actions cannot be completed within fifteen (15) business days, state the reason for the delay and the time within which these activities will be completed. Your firm’s response should be comprehensive and address all violations included in this Warning Letter. Additionally, our investigators cited observations on the FDA 483 in the areas of corrective and preventive action (21 CFR 820.100), acceptance activities (21 CFR 820.80), statistical techniques (21 CFR 820.250), and inspection, measuring, and test equipment (21 CFR 820.72).  Your firm’s responses appear to adequately address these observations. Implementation and effectiveness of your corrective actions will be evaluated during a follow-up inspection. If you have questions regarding this letter, please contact Timothy G. Philips, Compliance Officer, by telephone at 612-758-7133, or by e-mail at Timothy.Philips@fda.hhs.gov. Please send your reply to this Warning Letter to Blake Bevill, Program Division Director, using the electronic mailbox ORADevices2FirmResponse@fda.hhs.gov. Any attachments should be labeled and/or identified for ease of review. Documentation should be submitted as a single pdf file, with bookmarks to easily identify table of contents, memos, attachments, etc.   If a single pdf file exceeds the 100MB size limit, please submit multiple pdf files, as appropriate. Refer to CMS Case #560736 when replying. Finally, you should know that this letter is not intended to be an all-inclusive list of the violations at your firm’s facility.  It is your firm’s responsibility to ensure compliance with applicable laws and regulations administered by FDA.  The specific violations noted in this letter and in the Inspectional Observations, FDA 483, issued at the close of the inspection may be symptomatic of serious problems in your firm’s manufacturing and quality management systems.  Your firm should investigate and determine the causes of the violations, and take prompt actions to correct the violations and bring the products into compliance. ',\n",
       " 'Sincerely,']"
      ]
     },
     "execution_count": 585,
     "metadata": {},
     "output_type": "execute_result"
    }
   ],
   "source": [
    "medtronic_warning[2]"
   ]
  },
  {
   "cell_type": "code",
   "execution_count": 642,
   "id": "69bc68b7",
   "metadata": {},
   "outputs": [
    {
     "name": "stdout",
     "output_type": "stream",
     "text": [
      "[]\n",
      "[]\n",
      "[]\n",
      "[]\n",
      "[]\n",
      "This inspection revealed that these devices are adulterated within the meaning of section 501(h) of the Act, 21 U.S.C. § 351(h), in that the methods used in, or the facilities or controls used for, their manufacture, packing, storage, or installation are not in conformity with the current good manufacturing practice requirements of the Quality System regulation found at Title 21, Code of Federal Regulations (CFR), Part 820. You may find the Act and FDA’s regulations through links in FDA’s home page at www.fda.gov. We received your firm’s responses dated June 6 and July 13, 2018, concerning our investigators’ observations noted on the Form FDA 483 (FDA 483), Inspectional Observations, issued to your firm on May 15, 2018. We address these responses below in relation to violations observed during the inspection, which include: 1.    Failure to validate a process whose results cannot be fully verified by subsequent inspection and test according to established procedures, which is required by 21 CFR 820.75(a). Specifically, (b)(4) processes (b)(4) were not validated on Blackwell implantable cardiac defibrillators (ICDs). These (b)(4) processes (b)(4) in ICDs that failed due to high voltage arcing. This led to your firm’s recall Z-0582/9-2018.  We reviewed your firm’s responses to the FDA 483 and acknowledge your commitment to: (a) (b)(4) process steps (b)(4), (b) update supplemental material for process validation to clarify that each (b)(4) must be assessed and challenged during process validation, (c) update the change control process to incorporate instructions on how to assess risk or unintended consequence of (b)(4), (d) assess (b)(4) processes for ICDs to determine if they were properly validated and have adequate process controls, and (e) perform an assessment of process validations for Blackwell ICDs non-fully verifiable processes to evaluate if applicable product specifications were challenged per process validation and design transfer requirements. Your responses appear to be adequate; however, some of your firm’s actions are still in progress, and a follow-up inspection by FDA will be necessary to verify compliance. 2.   Failure to document (b)(4) activities in the device history record (DHR) as required by 21 CFR 820.90(b)(2). Specifically, (b)(4) on implantable cardiac defibrillators (ICDs) was not documented in device history records. We reviewed your firm’s responses to the FDA 483 and acknowledge your commitment to: (a) (b)(4) process, (b) update product identification and traceability procedures to clarity that (b)(4) must be documented, (c) update your training of new hires and manufacturing personnel, (d) assess manufacturing areas to identify whether similar conduct is occurring elsewhere, and (e) establish more robust equipment and/or procedure controls on ICD equipment used in manufacturing to help prevent the occurrence of undocumented (b)(4). Your responses appear to be adequate; however, some of your firm’s actions are still in progress, and a follow-up inspection by FDA will be necessary to verify compliance. Your firm should take prompt action to correct the violations cited in this letter. Failure to promptly correct these violations may result in regulatory action being initiated by the FDA without further notice. These actions include, but are not limited to, seizure, injunction, and civil money penalties.  Also, federal agencies may be advised of the issuance of Warning Letters about devices so that they may take this information into account when considering the award of contracts. Additionally, premarket approval applications for Class III devices to which the Quality System regulation violations are reasonably related will not be approved until the violations have been corrected.  Requests for Certificates to Foreign Governments will not be granted until the violations related to the subject devices have been corrected.\n",
      "This inspection revealed that these devices are adulterated within the meaning of section 501(h) of the Act, 21 U.S.C. § 351(h), in that the methods used in, or the facilities or controls used for, their manufacture, packing, storage, or installation are not in conformity with the current good manufacturing practice requirements of the Quality System regulation found at Title 21, Code of Federal Regulations (CFR), Part 820. You may find the Act and FDA’s regulations through links in FDA’s home page at www.fda.gov. We received your firm’s responses dated June 6 and July 13, 2018, concerning our investigators’ observations noted on the Form FDA 483 (FDA 483), Inspectional Observations, issued to your firm on May 15, 2018. We address these responses below in relation to violations observed during the inspection, which include: 1.    Failure to validate a process whose results cannot be fully verified by subsequent inspection and test according to established procedures, which is required by 21 CFR 820.75(a). Specifically, (b)(4) processes (b)(4) were not validated on Blackwell implantable cardiac defibrillators (ICDs). These (b)(4) processes (b)(4) in ICDs that failed due to high voltage arcing. This led to your firm’s recall Z-0582/9-2018.  We reviewed your firm’s responses to the FDA 483 and acknowledge your commitment to: (a) (b)(4) process steps (b)(4), (b) update supplemental material for process validation to clarify that each (b)(4) must be assessed and challenged during process validation, (c) update the change control process to incorporate instructions on how to assess risk or unintended consequence of (b)(4), (d) assess (b)(4) processes for ICDs to determine if they were properly validated and have adequate process controls, and (e) perform an assessment of process validations for Blackwell ICDs non-fully verifiable processes to evaluate if applicable product specifications were challenged per process validation and design transfer requirements. Your responses appear to be adequate; however, some of your firm’s actions are still in progress, and a follow-up inspection by FDA will be necessary to verify compliance. 2.   Failure to document (b)(4) activities in the device history record (DHR) as required by 21 CFR 820.90(b)(2). Specifically, (b)(4) on implantable cardiac defibrillators (ICDs) was not documented in device history records. We reviewed your firm’s responses to the FDA 483 and acknowledge your commitment to: (a) (b)(4) process, (b) update product identification and traceability procedures to clarity that (b)(4) must be documented, (c) update your training of new hires and manufacturing personnel, (d) assess manufacturing areas to identify whether similar conduct is occurring elsewhere, and (e) establish more robust equipment and/or procedure controls on ICD equipment used in manufacturing to help prevent the occurrence of undocumented (b)(4). Your responses appear to be adequate; however, some of your firm’s actions are still in progress, and a follow-up inspection by FDA will be necessary to verify compliance. Your firm should take prompt action to correct the violations cited in this letter. Failure to promptly correct these violations may result in regulatory action being initiated by the FDA without further notice. These actions include, but are not limited to, seizure, injunction, and civil money penalties.  Also, federal agencies may be advised of the issuance of Warning Letters about devices so that they may take this information into account when considering the award of contracts. Additionally, premarket approval applications for Class III devices to which the Quality System regulation violations are reasonably related will not be approved until the violations have been corrected.  Requests for Certificates to Foreign Governments will not be granted until the violations related to the subject devices have been corrected.\n",
      "[]\n",
      "[]\n",
      "[]\n"
     ]
    }
   ],
   "source": [
    "point = list()\n",
    "for i, text in enumerate(medtronic_warning[2]):\n",
    "    for ii, itext in enumerate(text):    \n",
    "        if (itext.isnumeric() == True) and (medtronic_warning[2][i][ii+1:ii+5] == '.   '):\n",
    "            print(text)\n",
    "        #point.append(i)\n",
    "    \n",
    "    print(point)\n",
    "    #print(point)\n",
    "    #for i in point:\n",
    "    #    print(text[i:(text.find('.',i))])\n"
   ]
  },
  {
   "cell_type": "code",
   "execution_count": 604,
   "id": "936c7509",
   "metadata": {},
   "outputs": [
    {
     "data": {
      "text/plain": [
       "'This inspection revealed that these devices are adulterated within the meaning of section 501(h) of the Act, 21 U.S.C. § 351(h), in that the methods used in, or the facilities or controls used for, their manufacture, packing, storage, or installation are not in conformity with the current good manufacturing practice requirements of the Quality System regulation found at Title 21, Code of Federal Regulations (CFR), Part 820. You may find the Act and FDA’s regulations through links in FDA’s home page at www.fda.gov. We received your firm’s responses dated June 6 and July 13, 2018, concerning our investigators’ observations noted on the Form FDA 483 (FDA 483), Inspectional Observations, issued to your firm on May 15, 2018. We address these responses below in relation to violations observed during the inspection, which include: 1.    Failure to validate a process whose results cannot be fully verified by subsequent inspection and test according to established procedures, which is required by 21 CFR 820.75(a). Specifically, (b)(4) processes (b)(4) were not validated on Blackwell implantable cardiac defibrillators (ICDs). These (b)(4) processes (b)(4) in ICDs that failed due to high voltage arcing. This led to your firm’s recall Z-0582/9-2018.  We reviewed your firm’s responses to the FDA 483 and acknowledge your commitment to: (a) (b)(4) process steps (b)(4), (b) update supplemental material for process validation to clarify that each (b)(4) must be assessed and challenged during process validation, (c) update the change control process to incorporate instructions on how to assess risk or unintended consequence of (b)(4), (d) assess (b)(4) processes for ICDs to determine if they were properly validated and have adequate process controls, and (e) perform an assessment of process validations for Blackwell ICDs non-fully verifiable processes to evaluate if applicable product specifications were challenged per process validation and design transfer requirements. Your responses appear to be adequate; however, some of your firm’s actions are still in progress, and a follow-up inspection by FDA will be necessary to verify compliance. 2.   Failure to document (b)(4) activities in the device history record (DHR) as required by 21 CFR 820.90(b)(2). Specifically, (b)(4) on implantable cardiac defibrillators (ICDs) was not documented in device history records. We reviewed your firm’s responses to the FDA 483 and acknowledge your commitment to: (a) (b)(4) process, (b) update product identification and traceability procedures to clarity that (b)(4) must be documented, (c) update your training of new hires and manufacturing personnel, (d) assess manufacturing areas to identify whether similar conduct is occurring elsewhere, and (e) establish more robust equipment and/or procedure controls on ICD equipment used in manufacturing to help prevent the occurrence of undocumented (b)(4). Your responses appear to be adequate; however, some of your firm’s actions are still in progress, and a follow-up inspection by FDA will be necessary to verify compliance. Your firm should take prompt action to correct the violations cited in this letter. Failure to promptly correct these violations may result in regulatory action being initiated by the FDA without further notice. These actions include, but are not limited to, seizure, injunction, and civil money penalties.  Also, federal agencies may be advised of the issuance of Warning Letters about devices so that they may take this information into account when considering the award of contracts. Additionally, premarket approval applications for Class III devices to which the Quality System regulation violations are reasonably related will not be approved until the violations have been corrected.  Requests for Certificates to Foreign Governments will not be granted until the violations related to the subject devices have been corrected.'"
      ]
     },
     "execution_count": 604,
     "metadata": {},
     "output_type": "execute_result"
    }
   ],
   "source": [
    "medtronic_warning[2][5]"
   ]
  },
  {
   "cell_type": "code",
   "execution_count": null,
   "id": "7bd637cb",
   "metadata": {},
   "outputs": [],
   "source": []
  }
 ],
 "metadata": {
  "interpreter": {
   "hash": "aee8b7b246df8f9039afb4144a1f6fd8d2ca17a180786b69acc140d282b71a49"
  },
  "kernelspec": {
   "display_name": "Python 3 (ipykernel)",
   "language": "python",
   "name": "python3"
  },
  "language_info": {
   "codemirror_mode": {
    "name": "ipython",
    "version": 3
   },
   "file_extension": ".py",
   "mimetype": "text/x-python",
   "name": "python",
   "nbconvert_exporter": "python",
   "pygments_lexer": "ipython3",
   "version": "3.9.7"
  }
 },
 "nbformat": 4,
 "nbformat_minor": 5
}
